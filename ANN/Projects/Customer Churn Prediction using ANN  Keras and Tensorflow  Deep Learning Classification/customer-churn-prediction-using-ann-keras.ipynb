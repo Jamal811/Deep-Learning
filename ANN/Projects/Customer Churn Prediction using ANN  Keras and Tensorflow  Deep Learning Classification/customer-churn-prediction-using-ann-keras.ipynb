{
 "cells": [
  {
   "cell_type": "code",
   "execution_count": 1,
   "id": "3e8f591e",
   "metadata": {
    "_cell_guid": "b1076dfc-b9ad-4769-8c92-a6c4dae69d19",
    "_uuid": "8f2839f25d086af736a60e9eeb907d3b93b6e0e5",
    "execution": {
     "iopub.execute_input": "2024-10-30T08:23:09.389320Z",
     "iopub.status.busy": "2024-10-30T08:23:09.388690Z",
     "iopub.status.idle": "2024-10-30T08:23:10.120538Z",
     "shell.execute_reply": "2024-10-30T08:23:10.119676Z"
    },
    "papermill": {
     "duration": 0.745151,
     "end_time": "2024-10-30T08:23:10.122814",
     "exception": false,
     "start_time": "2024-10-30T08:23:09.377663",
     "status": "completed"
    },
    "tags": []
   },
   "outputs": [
    {
     "name": "stdout",
     "output_type": "stream",
     "text": [
      "/kaggle/input/credit-card-customer-churn-prediction/Churn_Modelling.csv\n"
     ]
    }
   ],
   "source": [
    "# This Python 3 environment comes with many helpful analytics libraries installed\n",
    "# It is defined by the kaggle/python Docker image: https://github.com/kaggle/docker-python\n",
    "# For example, here's several helpful packages to load\n",
    "\n",
    "import numpy as np # linear algebra\n",
    "import pandas as pd # data processing, CSV file I/O (e.g. pd.read_csv)\n",
    "\n",
    "# Input data files are available in the read-only \"../input/\" directory\n",
    "# For example, running this (by clicking run or pressing Shift+Enter) will list all files under the input directory\n",
    "\n",
    "import os\n",
    "for dirname, _, filenames in os.walk('/kaggle/input'):\n",
    "    for filename in filenames:\n",
    "        print(os.path.join(dirname, filename))\n",
    "\n",
    "# You can write up to 20GB to the current directory (/kaggle/working/) that gets preserved as output when you create a version using \"Save & Run All\" \n",
    "# You can also write temporary files to /kaggle/temp/, but they won't be saved outside of the current session"
   ]
  },
  {
   "cell_type": "code",
   "execution_count": 2,
   "id": "e37db9ad",
   "metadata": {
    "execution": {
     "iopub.execute_input": "2024-10-30T08:23:10.144221Z",
     "iopub.status.busy": "2024-10-30T08:23:10.143797Z",
     "iopub.status.idle": "2024-10-30T08:23:10.193451Z",
     "shell.execute_reply": "2024-10-30T08:23:10.192480Z"
    },
    "papermill": {
     "duration": 0.062362,
     "end_time": "2024-10-30T08:23:10.195755",
     "exception": false,
     "start_time": "2024-10-30T08:23:10.133393",
     "status": "completed"
    },
    "tags": []
   },
   "outputs": [],
   "source": [
    "df = pd.read_csv('/kaggle/input/credit-card-customer-churn-prediction/Churn_Modelling.csv')"
   ]
  },
  {
   "cell_type": "code",
   "execution_count": 3,
   "id": "0b9c14f6",
   "metadata": {
    "execution": {
     "iopub.execute_input": "2024-10-30T08:23:10.215534Z",
     "iopub.status.busy": "2024-10-30T08:23:10.215026Z",
     "iopub.status.idle": "2024-10-30T08:23:10.237855Z",
     "shell.execute_reply": "2024-10-30T08:23:10.237007Z"
    },
    "papermill": {
     "duration": 0.034725,
     "end_time": "2024-10-30T08:23:10.239883",
     "exception": false,
     "start_time": "2024-10-30T08:23:10.205158",
     "status": "completed"
    },
    "tags": []
   },
   "outputs": [
    {
     "data": {
      "text/html": [
       "<div>\n",
       "<style scoped>\n",
       "    .dataframe tbody tr th:only-of-type {\n",
       "        vertical-align: middle;\n",
       "    }\n",
       "\n",
       "    .dataframe tbody tr th {\n",
       "        vertical-align: top;\n",
       "    }\n",
       "\n",
       "    .dataframe thead th {\n",
       "        text-align: right;\n",
       "    }\n",
       "</style>\n",
       "<table border=\"1\" class=\"dataframe\">\n",
       "  <thead>\n",
       "    <tr style=\"text-align: right;\">\n",
       "      <th></th>\n",
       "      <th>RowNumber</th>\n",
       "      <th>CustomerId</th>\n",
       "      <th>Surname</th>\n",
       "      <th>CreditScore</th>\n",
       "      <th>Geography</th>\n",
       "      <th>Gender</th>\n",
       "      <th>Age</th>\n",
       "      <th>Tenure</th>\n",
       "      <th>Balance</th>\n",
       "      <th>NumOfProducts</th>\n",
       "      <th>HasCrCard</th>\n",
       "      <th>IsActiveMember</th>\n",
       "      <th>EstimatedSalary</th>\n",
       "      <th>Exited</th>\n",
       "    </tr>\n",
       "  </thead>\n",
       "  <tbody>\n",
       "    <tr>\n",
       "      <th>0</th>\n",
       "      <td>1</td>\n",
       "      <td>15634602</td>\n",
       "      <td>Hargrave</td>\n",
       "      <td>619</td>\n",
       "      <td>France</td>\n",
       "      <td>Female</td>\n",
       "      <td>42</td>\n",
       "      <td>2</td>\n",
       "      <td>0.00</td>\n",
       "      <td>1</td>\n",
       "      <td>1</td>\n",
       "      <td>1</td>\n",
       "      <td>101348.88</td>\n",
       "      <td>1</td>\n",
       "    </tr>\n",
       "    <tr>\n",
       "      <th>1</th>\n",
       "      <td>2</td>\n",
       "      <td>15647311</td>\n",
       "      <td>Hill</td>\n",
       "      <td>608</td>\n",
       "      <td>Spain</td>\n",
       "      <td>Female</td>\n",
       "      <td>41</td>\n",
       "      <td>1</td>\n",
       "      <td>83807.86</td>\n",
       "      <td>1</td>\n",
       "      <td>0</td>\n",
       "      <td>1</td>\n",
       "      <td>112542.58</td>\n",
       "      <td>0</td>\n",
       "    </tr>\n",
       "    <tr>\n",
       "      <th>2</th>\n",
       "      <td>3</td>\n",
       "      <td>15619304</td>\n",
       "      <td>Onio</td>\n",
       "      <td>502</td>\n",
       "      <td>France</td>\n",
       "      <td>Female</td>\n",
       "      <td>42</td>\n",
       "      <td>8</td>\n",
       "      <td>159660.80</td>\n",
       "      <td>3</td>\n",
       "      <td>1</td>\n",
       "      <td>0</td>\n",
       "      <td>113931.57</td>\n",
       "      <td>1</td>\n",
       "    </tr>\n",
       "    <tr>\n",
       "      <th>3</th>\n",
       "      <td>4</td>\n",
       "      <td>15701354</td>\n",
       "      <td>Boni</td>\n",
       "      <td>699</td>\n",
       "      <td>France</td>\n",
       "      <td>Female</td>\n",
       "      <td>39</td>\n",
       "      <td>1</td>\n",
       "      <td>0.00</td>\n",
       "      <td>2</td>\n",
       "      <td>0</td>\n",
       "      <td>0</td>\n",
       "      <td>93826.63</td>\n",
       "      <td>0</td>\n",
       "    </tr>\n",
       "    <tr>\n",
       "      <th>4</th>\n",
       "      <td>5</td>\n",
       "      <td>15737888</td>\n",
       "      <td>Mitchell</td>\n",
       "      <td>850</td>\n",
       "      <td>Spain</td>\n",
       "      <td>Female</td>\n",
       "      <td>43</td>\n",
       "      <td>2</td>\n",
       "      <td>125510.82</td>\n",
       "      <td>1</td>\n",
       "      <td>1</td>\n",
       "      <td>1</td>\n",
       "      <td>79084.10</td>\n",
       "      <td>0</td>\n",
       "    </tr>\n",
       "  </tbody>\n",
       "</table>\n",
       "</div>"
      ],
      "text/plain": [
       "   RowNumber  CustomerId   Surname  CreditScore Geography  Gender  Age  \\\n",
       "0          1    15634602  Hargrave          619    France  Female   42   \n",
       "1          2    15647311      Hill          608     Spain  Female   41   \n",
       "2          3    15619304      Onio          502    France  Female   42   \n",
       "3          4    15701354      Boni          699    France  Female   39   \n",
       "4          5    15737888  Mitchell          850     Spain  Female   43   \n",
       "\n",
       "   Tenure    Balance  NumOfProducts  HasCrCard  IsActiveMember  \\\n",
       "0       2       0.00              1          1               1   \n",
       "1       1   83807.86              1          0               1   \n",
       "2       8  159660.80              3          1               0   \n",
       "3       1       0.00              2          0               0   \n",
       "4       2  125510.82              1          1               1   \n",
       "\n",
       "   EstimatedSalary  Exited  \n",
       "0        101348.88       1  \n",
       "1        112542.58       0  \n",
       "2        113931.57       1  \n",
       "3         93826.63       0  \n",
       "4         79084.10       0  "
      ]
     },
     "execution_count": 3,
     "metadata": {},
     "output_type": "execute_result"
    }
   ],
   "source": [
    "df.head()"
   ]
  },
  {
   "cell_type": "code",
   "execution_count": 4,
   "id": "cda29a7b",
   "metadata": {
    "execution": {
     "iopub.execute_input": "2024-10-30T08:23:10.261344Z",
     "iopub.status.busy": "2024-10-30T08:23:10.261043Z",
     "iopub.status.idle": "2024-10-30T08:23:10.266757Z",
     "shell.execute_reply": "2024-10-30T08:23:10.265859Z"
    },
    "papermill": {
     "duration": 0.018552,
     "end_time": "2024-10-30T08:23:10.268576",
     "exception": false,
     "start_time": "2024-10-30T08:23:10.250024",
     "status": "completed"
    },
    "tags": []
   },
   "outputs": [
    {
     "data": {
      "text/plain": [
       "(10000, 14)"
      ]
     },
     "execution_count": 4,
     "metadata": {},
     "output_type": "execute_result"
    }
   ],
   "source": [
    "df.shape"
   ]
  },
  {
   "cell_type": "code",
   "execution_count": 5,
   "id": "96895619",
   "metadata": {
    "execution": {
     "iopub.execute_input": "2024-10-30T08:23:10.288583Z",
     "iopub.status.busy": "2024-10-30T08:23:10.288303Z",
     "iopub.status.idle": "2024-10-30T08:23:10.312381Z",
     "shell.execute_reply": "2024-10-30T08:23:10.311365Z"
    },
    "papermill": {
     "duration": 0.036334,
     "end_time": "2024-10-30T08:23:10.314336",
     "exception": false,
     "start_time": "2024-10-30T08:23:10.278002",
     "status": "completed"
    },
    "tags": []
   },
   "outputs": [
    {
     "name": "stdout",
     "output_type": "stream",
     "text": [
      "<class 'pandas.core.frame.DataFrame'>\n",
      "RangeIndex: 10000 entries, 0 to 9999\n",
      "Data columns (total 14 columns):\n",
      " #   Column           Non-Null Count  Dtype  \n",
      "---  ------           --------------  -----  \n",
      " 0   RowNumber        10000 non-null  int64  \n",
      " 1   CustomerId       10000 non-null  int64  \n",
      " 2   Surname          10000 non-null  object \n",
      " 3   CreditScore      10000 non-null  int64  \n",
      " 4   Geography        10000 non-null  object \n",
      " 5   Gender           10000 non-null  object \n",
      " 6   Age              10000 non-null  int64  \n",
      " 7   Tenure           10000 non-null  int64  \n",
      " 8   Balance          10000 non-null  float64\n",
      " 9   NumOfProducts    10000 non-null  int64  \n",
      " 10  HasCrCard        10000 non-null  int64  \n",
      " 11  IsActiveMember   10000 non-null  int64  \n",
      " 12  EstimatedSalary  10000 non-null  float64\n",
      " 13  Exited           10000 non-null  int64  \n",
      "dtypes: float64(2), int64(9), object(3)\n",
      "memory usage: 1.1+ MB\n"
     ]
    }
   ],
   "source": [
    "df.info()"
   ]
  },
  {
   "cell_type": "code",
   "execution_count": 6,
   "id": "241a6b22",
   "metadata": {
    "execution": {
     "iopub.execute_input": "2024-10-30T08:23:10.335230Z",
     "iopub.status.busy": "2024-10-30T08:23:10.334430Z",
     "iopub.status.idle": "2024-10-30T08:23:10.347159Z",
     "shell.execute_reply": "2024-10-30T08:23:10.346349Z"
    },
    "papermill": {
     "duration": 0.025011,
     "end_time": "2024-10-30T08:23:10.349036",
     "exception": false,
     "start_time": "2024-10-30T08:23:10.324025",
     "status": "completed"
    },
    "tags": []
   },
   "outputs": [
    {
     "data": {
      "text/plain": [
       "0"
      ]
     },
     "execution_count": 6,
     "metadata": {},
     "output_type": "execute_result"
    }
   ],
   "source": [
    "df.duplicated().sum()"
   ]
  },
  {
   "cell_type": "code",
   "execution_count": 7,
   "id": "8973c3f7",
   "metadata": {
    "execution": {
     "iopub.execute_input": "2024-10-30T08:23:10.369840Z",
     "iopub.status.busy": "2024-10-30T08:23:10.369558Z",
     "iopub.status.idle": "2024-10-30T08:23:10.378517Z",
     "shell.execute_reply": "2024-10-30T08:23:10.377661Z"
    },
    "papermill": {
     "duration": 0.021203,
     "end_time": "2024-10-30T08:23:10.380338",
     "exception": false,
     "start_time": "2024-10-30T08:23:10.359135",
     "status": "completed"
    },
    "tags": []
   },
   "outputs": [
    {
     "data": {
      "text/plain": [
       "Exited\n",
       "0    7963\n",
       "1    2037\n",
       "Name: count, dtype: int64"
      ]
     },
     "execution_count": 7,
     "metadata": {},
     "output_type": "execute_result"
    }
   ],
   "source": [
    "df['Exited'].value_counts()"
   ]
  },
  {
   "cell_type": "code",
   "execution_count": 8,
   "id": "2e9af009",
   "metadata": {
    "execution": {
     "iopub.execute_input": "2024-10-30T08:23:10.400655Z",
     "iopub.status.busy": "2024-10-30T08:23:10.400387Z",
     "iopub.status.idle": "2024-10-30T08:23:10.408719Z",
     "shell.execute_reply": "2024-10-30T08:23:10.407909Z"
    },
    "papermill": {
     "duration": 0.020654,
     "end_time": "2024-10-30T08:23:10.410667",
     "exception": false,
     "start_time": "2024-10-30T08:23:10.390013",
     "status": "completed"
    },
    "tags": []
   },
   "outputs": [
    {
     "data": {
      "text/plain": [
       "Gender\n",
       "Male      5457\n",
       "Female    4543\n",
       "Name: count, dtype: int64"
      ]
     },
     "execution_count": 8,
     "metadata": {},
     "output_type": "execute_result"
    }
   ],
   "source": [
    "df['Gender'].value_counts()"
   ]
  },
  {
   "cell_type": "code",
   "execution_count": 9,
   "id": "37d107be",
   "metadata": {
    "execution": {
     "iopub.execute_input": "2024-10-30T08:23:10.431639Z",
     "iopub.status.busy": "2024-10-30T08:23:10.431354Z",
     "iopub.status.idle": "2024-10-30T08:23:10.447610Z",
     "shell.execute_reply": "2024-10-30T08:23:10.446795Z"
    },
    "papermill": {
     "duration": 0.028819,
     "end_time": "2024-10-30T08:23:10.449598",
     "exception": false,
     "start_time": "2024-10-30T08:23:10.420779",
     "status": "completed"
    },
    "tags": []
   },
   "outputs": [
    {
     "data": {
      "text/html": [
       "<div>\n",
       "<style scoped>\n",
       "    .dataframe tbody tr th:only-of-type {\n",
       "        vertical-align: middle;\n",
       "    }\n",
       "\n",
       "    .dataframe tbody tr th {\n",
       "        vertical-align: top;\n",
       "    }\n",
       "\n",
       "    .dataframe thead th {\n",
       "        text-align: right;\n",
       "    }\n",
       "</style>\n",
       "<table border=\"1\" class=\"dataframe\">\n",
       "  <thead>\n",
       "    <tr style=\"text-align: right;\">\n",
       "      <th></th>\n",
       "      <th>CreditScore</th>\n",
       "      <th>Geography</th>\n",
       "      <th>Gender</th>\n",
       "      <th>Age</th>\n",
       "      <th>Tenure</th>\n",
       "      <th>Balance</th>\n",
       "      <th>NumOfProducts</th>\n",
       "      <th>HasCrCard</th>\n",
       "      <th>IsActiveMember</th>\n",
       "      <th>EstimatedSalary</th>\n",
       "      <th>Exited</th>\n",
       "    </tr>\n",
       "  </thead>\n",
       "  <tbody>\n",
       "    <tr>\n",
       "      <th>0</th>\n",
       "      <td>619</td>\n",
       "      <td>France</td>\n",
       "      <td>Female</td>\n",
       "      <td>42</td>\n",
       "      <td>2</td>\n",
       "      <td>0.00</td>\n",
       "      <td>1</td>\n",
       "      <td>1</td>\n",
       "      <td>1</td>\n",
       "      <td>101348.88</td>\n",
       "      <td>1</td>\n",
       "    </tr>\n",
       "    <tr>\n",
       "      <th>1</th>\n",
       "      <td>608</td>\n",
       "      <td>Spain</td>\n",
       "      <td>Female</td>\n",
       "      <td>41</td>\n",
       "      <td>1</td>\n",
       "      <td>83807.86</td>\n",
       "      <td>1</td>\n",
       "      <td>0</td>\n",
       "      <td>1</td>\n",
       "      <td>112542.58</td>\n",
       "      <td>0</td>\n",
       "    </tr>\n",
       "    <tr>\n",
       "      <th>2</th>\n",
       "      <td>502</td>\n",
       "      <td>France</td>\n",
       "      <td>Female</td>\n",
       "      <td>42</td>\n",
       "      <td>8</td>\n",
       "      <td>159660.80</td>\n",
       "      <td>3</td>\n",
       "      <td>1</td>\n",
       "      <td>0</td>\n",
       "      <td>113931.57</td>\n",
       "      <td>1</td>\n",
       "    </tr>\n",
       "    <tr>\n",
       "      <th>3</th>\n",
       "      <td>699</td>\n",
       "      <td>France</td>\n",
       "      <td>Female</td>\n",
       "      <td>39</td>\n",
       "      <td>1</td>\n",
       "      <td>0.00</td>\n",
       "      <td>2</td>\n",
       "      <td>0</td>\n",
       "      <td>0</td>\n",
       "      <td>93826.63</td>\n",
       "      <td>0</td>\n",
       "    </tr>\n",
       "    <tr>\n",
       "      <th>4</th>\n",
       "      <td>850</td>\n",
       "      <td>Spain</td>\n",
       "      <td>Female</td>\n",
       "      <td>43</td>\n",
       "      <td>2</td>\n",
       "      <td>125510.82</td>\n",
       "      <td>1</td>\n",
       "      <td>1</td>\n",
       "      <td>1</td>\n",
       "      <td>79084.10</td>\n",
       "      <td>0</td>\n",
       "    </tr>\n",
       "  </tbody>\n",
       "</table>\n",
       "</div>"
      ],
      "text/plain": [
       "   CreditScore Geography  Gender  Age  Tenure    Balance  NumOfProducts  \\\n",
       "0          619    France  Female   42       2       0.00              1   \n",
       "1          608     Spain  Female   41       1   83807.86              1   \n",
       "2          502    France  Female   42       8  159660.80              3   \n",
       "3          699    France  Female   39       1       0.00              2   \n",
       "4          850     Spain  Female   43       2  125510.82              1   \n",
       "\n",
       "   HasCrCard  IsActiveMember  EstimatedSalary  Exited  \n",
       "0          1               1        101348.88       1  \n",
       "1          0               1        112542.58       0  \n",
       "2          1               0        113931.57       1  \n",
       "3          0               0         93826.63       0  \n",
       "4          1               1         79084.10       0  "
      ]
     },
     "execution_count": 9,
     "metadata": {},
     "output_type": "execute_result"
    }
   ],
   "source": [
    "df.drop(columns=['RowNumber', 'CustomerId', 'Surname'], inplace=True)\n",
    "df.head()"
   ]
  },
  {
   "cell_type": "code",
   "execution_count": 10,
   "id": "508374bb",
   "metadata": {
    "execution": {
     "iopub.execute_input": "2024-10-30T08:23:10.471628Z",
     "iopub.status.busy": "2024-10-30T08:23:10.471354Z",
     "iopub.status.idle": "2024-10-30T08:23:10.489821Z",
     "shell.execute_reply": "2024-10-30T08:23:10.489030Z"
    },
    "papermill": {
     "duration": 0.031553,
     "end_time": "2024-10-30T08:23:10.491768",
     "exception": false,
     "start_time": "2024-10-30T08:23:10.460215",
     "status": "completed"
    },
    "tags": []
   },
   "outputs": [
    {
     "data": {
      "text/html": [
       "<div>\n",
       "<style scoped>\n",
       "    .dataframe tbody tr th:only-of-type {\n",
       "        vertical-align: middle;\n",
       "    }\n",
       "\n",
       "    .dataframe tbody tr th {\n",
       "        vertical-align: top;\n",
       "    }\n",
       "\n",
       "    .dataframe thead th {\n",
       "        text-align: right;\n",
       "    }\n",
       "</style>\n",
       "<table border=\"1\" class=\"dataframe\">\n",
       "  <thead>\n",
       "    <tr style=\"text-align: right;\">\n",
       "      <th></th>\n",
       "      <th>CreditScore</th>\n",
       "      <th>Age</th>\n",
       "      <th>Tenure</th>\n",
       "      <th>Balance</th>\n",
       "      <th>NumOfProducts</th>\n",
       "      <th>HasCrCard</th>\n",
       "      <th>IsActiveMember</th>\n",
       "      <th>EstimatedSalary</th>\n",
       "      <th>Exited</th>\n",
       "      <th>Geography_Germany</th>\n",
       "      <th>Geography_Spain</th>\n",
       "      <th>Gender_Male</th>\n",
       "    </tr>\n",
       "  </thead>\n",
       "  <tbody>\n",
       "    <tr>\n",
       "      <th>0</th>\n",
       "      <td>619</td>\n",
       "      <td>42</td>\n",
       "      <td>2</td>\n",
       "      <td>0.00</td>\n",
       "      <td>1</td>\n",
       "      <td>1</td>\n",
       "      <td>1</td>\n",
       "      <td>101348.88</td>\n",
       "      <td>1</td>\n",
       "      <td>False</td>\n",
       "      <td>False</td>\n",
       "      <td>False</td>\n",
       "    </tr>\n",
       "    <tr>\n",
       "      <th>1</th>\n",
       "      <td>608</td>\n",
       "      <td>41</td>\n",
       "      <td>1</td>\n",
       "      <td>83807.86</td>\n",
       "      <td>1</td>\n",
       "      <td>0</td>\n",
       "      <td>1</td>\n",
       "      <td>112542.58</td>\n",
       "      <td>0</td>\n",
       "      <td>False</td>\n",
       "      <td>True</td>\n",
       "      <td>False</td>\n",
       "    </tr>\n",
       "    <tr>\n",
       "      <th>2</th>\n",
       "      <td>502</td>\n",
       "      <td>42</td>\n",
       "      <td>8</td>\n",
       "      <td>159660.80</td>\n",
       "      <td>3</td>\n",
       "      <td>1</td>\n",
       "      <td>0</td>\n",
       "      <td>113931.57</td>\n",
       "      <td>1</td>\n",
       "      <td>False</td>\n",
       "      <td>False</td>\n",
       "      <td>False</td>\n",
       "    </tr>\n",
       "    <tr>\n",
       "      <th>3</th>\n",
       "      <td>699</td>\n",
       "      <td>39</td>\n",
       "      <td>1</td>\n",
       "      <td>0.00</td>\n",
       "      <td>2</td>\n",
       "      <td>0</td>\n",
       "      <td>0</td>\n",
       "      <td>93826.63</td>\n",
       "      <td>0</td>\n",
       "      <td>False</td>\n",
       "      <td>False</td>\n",
       "      <td>False</td>\n",
       "    </tr>\n",
       "    <tr>\n",
       "      <th>4</th>\n",
       "      <td>850</td>\n",
       "      <td>43</td>\n",
       "      <td>2</td>\n",
       "      <td>125510.82</td>\n",
       "      <td>1</td>\n",
       "      <td>1</td>\n",
       "      <td>1</td>\n",
       "      <td>79084.10</td>\n",
       "      <td>0</td>\n",
       "      <td>False</td>\n",
       "      <td>True</td>\n",
       "      <td>False</td>\n",
       "    </tr>\n",
       "  </tbody>\n",
       "</table>\n",
       "</div>"
      ],
      "text/plain": [
       "   CreditScore  Age  Tenure    Balance  NumOfProducts  HasCrCard  \\\n",
       "0          619   42       2       0.00              1          1   \n",
       "1          608   41       1   83807.86              1          0   \n",
       "2          502   42       8  159660.80              3          1   \n",
       "3          699   39       1       0.00              2          0   \n",
       "4          850   43       2  125510.82              1          1   \n",
       "\n",
       "   IsActiveMember  EstimatedSalary  Exited  Geography_Germany  \\\n",
       "0               1        101348.88       1              False   \n",
       "1               1        112542.58       0              False   \n",
       "2               0        113931.57       1              False   \n",
       "3               0         93826.63       0              False   \n",
       "4               1         79084.10       0              False   \n",
       "\n",
       "   Geography_Spain  Gender_Male  \n",
       "0            False        False  \n",
       "1             True        False  \n",
       "2            False        False  \n",
       "3            False        False  \n",
       "4             True        False  "
      ]
     },
     "execution_count": 10,
     "metadata": {},
     "output_type": "execute_result"
    }
   ],
   "source": [
    "df = pd.get_dummies(df,columns=['Geography', 'Gender'], drop_first=True)\n",
    "df.head()"
   ]
  },
  {
   "cell_type": "code",
   "execution_count": 11,
   "id": "46ac68fe",
   "metadata": {
    "execution": {
     "iopub.execute_input": "2024-10-30T08:23:10.514382Z",
     "iopub.status.busy": "2024-10-30T08:23:10.513666Z",
     "iopub.status.idle": "2024-10-30T08:23:10.518711Z",
     "shell.execute_reply": "2024-10-30T08:23:10.517949Z"
    },
    "papermill": {
     "duration": 0.018099,
     "end_time": "2024-10-30T08:23:10.520540",
     "exception": false,
     "start_time": "2024-10-30T08:23:10.502441",
     "status": "completed"
    },
    "tags": []
   },
   "outputs": [],
   "source": [
    "X = df.drop(columns=['Exited'])\n",
    "y = df['Exited']"
   ]
  },
  {
   "cell_type": "code",
   "execution_count": 12,
   "id": "4d704138",
   "metadata": {
    "execution": {
     "iopub.execute_input": "2024-10-30T08:23:10.542910Z",
     "iopub.status.busy": "2024-10-30T08:23:10.542628Z",
     "iopub.status.idle": "2024-10-30T08:23:10.556687Z",
     "shell.execute_reply": "2024-10-30T08:23:10.555740Z"
    },
    "papermill": {
     "duration": 0.027468,
     "end_time": "2024-10-30T08:23:10.558903",
     "exception": false,
     "start_time": "2024-10-30T08:23:10.531435",
     "status": "completed"
    },
    "tags": []
   },
   "outputs": [
    {
     "data": {
      "text/html": [
       "<div>\n",
       "<style scoped>\n",
       "    .dataframe tbody tr th:only-of-type {\n",
       "        vertical-align: middle;\n",
       "    }\n",
       "\n",
       "    .dataframe tbody tr th {\n",
       "        vertical-align: top;\n",
       "    }\n",
       "\n",
       "    .dataframe thead th {\n",
       "        text-align: right;\n",
       "    }\n",
       "</style>\n",
       "<table border=\"1\" class=\"dataframe\">\n",
       "  <thead>\n",
       "    <tr style=\"text-align: right;\">\n",
       "      <th></th>\n",
       "      <th>CreditScore</th>\n",
       "      <th>Age</th>\n",
       "      <th>Tenure</th>\n",
       "      <th>Balance</th>\n",
       "      <th>NumOfProducts</th>\n",
       "      <th>HasCrCard</th>\n",
       "      <th>IsActiveMember</th>\n",
       "      <th>EstimatedSalary</th>\n",
       "      <th>Geography_Germany</th>\n",
       "      <th>Geography_Spain</th>\n",
       "      <th>Gender_Male</th>\n",
       "    </tr>\n",
       "  </thead>\n",
       "  <tbody>\n",
       "    <tr>\n",
       "      <th>0</th>\n",
       "      <td>619</td>\n",
       "      <td>42</td>\n",
       "      <td>2</td>\n",
       "      <td>0.00</td>\n",
       "      <td>1</td>\n",
       "      <td>1</td>\n",
       "      <td>1</td>\n",
       "      <td>101348.88</td>\n",
       "      <td>False</td>\n",
       "      <td>False</td>\n",
       "      <td>False</td>\n",
       "    </tr>\n",
       "    <tr>\n",
       "      <th>1</th>\n",
       "      <td>608</td>\n",
       "      <td>41</td>\n",
       "      <td>1</td>\n",
       "      <td>83807.86</td>\n",
       "      <td>1</td>\n",
       "      <td>0</td>\n",
       "      <td>1</td>\n",
       "      <td>112542.58</td>\n",
       "      <td>False</td>\n",
       "      <td>True</td>\n",
       "      <td>False</td>\n",
       "    </tr>\n",
       "    <tr>\n",
       "      <th>2</th>\n",
       "      <td>502</td>\n",
       "      <td>42</td>\n",
       "      <td>8</td>\n",
       "      <td>159660.80</td>\n",
       "      <td>3</td>\n",
       "      <td>1</td>\n",
       "      <td>0</td>\n",
       "      <td>113931.57</td>\n",
       "      <td>False</td>\n",
       "      <td>False</td>\n",
       "      <td>False</td>\n",
       "    </tr>\n",
       "    <tr>\n",
       "      <th>3</th>\n",
       "      <td>699</td>\n",
       "      <td>39</td>\n",
       "      <td>1</td>\n",
       "      <td>0.00</td>\n",
       "      <td>2</td>\n",
       "      <td>0</td>\n",
       "      <td>0</td>\n",
       "      <td>93826.63</td>\n",
       "      <td>False</td>\n",
       "      <td>False</td>\n",
       "      <td>False</td>\n",
       "    </tr>\n",
       "    <tr>\n",
       "      <th>4</th>\n",
       "      <td>850</td>\n",
       "      <td>43</td>\n",
       "      <td>2</td>\n",
       "      <td>125510.82</td>\n",
       "      <td>1</td>\n",
       "      <td>1</td>\n",
       "      <td>1</td>\n",
       "      <td>79084.10</td>\n",
       "      <td>False</td>\n",
       "      <td>True</td>\n",
       "      <td>False</td>\n",
       "    </tr>\n",
       "  </tbody>\n",
       "</table>\n",
       "</div>"
      ],
      "text/plain": [
       "   CreditScore  Age  Tenure    Balance  NumOfProducts  HasCrCard  \\\n",
       "0          619   42       2       0.00              1          1   \n",
       "1          608   41       1   83807.86              1          0   \n",
       "2          502   42       8  159660.80              3          1   \n",
       "3          699   39       1       0.00              2          0   \n",
       "4          850   43       2  125510.82              1          1   \n",
       "\n",
       "   IsActiveMember  EstimatedSalary  Geography_Germany  Geography_Spain  \\\n",
       "0               1        101348.88              False            False   \n",
       "1               1        112542.58              False             True   \n",
       "2               0        113931.57              False            False   \n",
       "3               0         93826.63              False            False   \n",
       "4               1         79084.10              False             True   \n",
       "\n",
       "   Gender_Male  \n",
       "0        False  \n",
       "1        False  \n",
       "2        False  \n",
       "3        False  \n",
       "4        False  "
      ]
     },
     "execution_count": 12,
     "metadata": {},
     "output_type": "execute_result"
    }
   ],
   "source": [
    "X.head()"
   ]
  },
  {
   "cell_type": "code",
   "execution_count": 13,
   "id": "dbf0d0bb",
   "metadata": {
    "collapsed": true,
    "execution": {
     "iopub.execute_input": "2024-10-30T08:23:10.582279Z",
     "iopub.status.busy": "2024-10-30T08:23:10.581965Z",
     "iopub.status.idle": "2024-10-30T08:23:10.587952Z",
     "shell.execute_reply": "2024-10-30T08:23:10.587170Z"
    },
    "jupyter": {
     "outputs_hidden": true
    },
    "papermill": {
     "duration": 0.019225,
     "end_time": "2024-10-30T08:23:10.589867",
     "exception": false,
     "start_time": "2024-10-30T08:23:10.570642",
     "status": "completed"
    },
    "tags": []
   },
   "outputs": [
    {
     "data": {
      "text/plain": [
       "0    1\n",
       "1    0\n",
       "2    1\n",
       "3    0\n",
       "4    0\n",
       "Name: Exited, dtype: int64"
      ]
     },
     "execution_count": 13,
     "metadata": {},
     "output_type": "execute_result"
    }
   ],
   "source": [
    "y.head()"
   ]
  },
  {
   "cell_type": "code",
   "execution_count": 14,
   "id": "33189d3d",
   "metadata": {
    "execution": {
     "iopub.execute_input": "2024-10-30T08:23:10.612743Z",
     "iopub.status.busy": "2024-10-30T08:23:10.612427Z",
     "iopub.status.idle": "2024-10-30T08:23:11.719870Z",
     "shell.execute_reply": "2024-10-30T08:23:11.719109Z"
    },
    "papermill": {
     "duration": 1.121528,
     "end_time": "2024-10-30T08:23:11.722184",
     "exception": false,
     "start_time": "2024-10-30T08:23:10.600656",
     "status": "completed"
    },
    "tags": []
   },
   "outputs": [],
   "source": [
    "from sklearn.model_selection import train_test_split\n",
    "X_train, X_test, y_train, y_test = train_test_split(X,y, test_size=0.2, random_state=1)"
   ]
  },
  {
   "cell_type": "code",
   "execution_count": 15,
   "id": "c4236ea2",
   "metadata": {
    "execution": {
     "iopub.execute_input": "2024-10-30T08:23:11.745630Z",
     "iopub.status.busy": "2024-10-30T08:23:11.745175Z",
     "iopub.status.idle": "2024-10-30T08:23:11.750776Z",
     "shell.execute_reply": "2024-10-30T08:23:11.750022Z"
    },
    "papermill": {
     "duration": 0.019166,
     "end_time": "2024-10-30T08:23:11.752627",
     "exception": false,
     "start_time": "2024-10-30T08:23:11.733461",
     "status": "completed"
    },
    "tags": []
   },
   "outputs": [
    {
     "data": {
      "text/plain": [
       "(8000, 11)"
      ]
     },
     "execution_count": 15,
     "metadata": {},
     "output_type": "execute_result"
    }
   ],
   "source": [
    "X_train.shape"
   ]
  },
  {
   "cell_type": "code",
   "execution_count": 16,
   "id": "50c42325",
   "metadata": {
    "execution": {
     "iopub.execute_input": "2024-10-30T08:23:11.775285Z",
     "iopub.status.busy": "2024-10-30T08:23:11.774973Z",
     "iopub.status.idle": "2024-10-30T08:23:11.791189Z",
     "shell.execute_reply": "2024-10-30T08:23:11.790342Z"
    },
    "papermill": {
     "duration": 0.029619,
     "end_time": "2024-10-30T08:23:11.793102",
     "exception": false,
     "start_time": "2024-10-30T08:23:11.763483",
     "status": "completed"
    },
    "tags": []
   },
   "outputs": [],
   "source": [
    "from sklearn.preprocessing import StandardScaler\n",
    "scaler = StandardScaler()\n",
    "\n",
    "X_train_scaled = scaler.fit_transform(X_train)\n",
    "X_test_scaled = scaler.transform(X_test)"
   ]
  },
  {
   "cell_type": "code",
   "execution_count": 17,
   "id": "8864ac3f",
   "metadata": {
    "execution": {
     "iopub.execute_input": "2024-10-30T08:23:11.815608Z",
     "iopub.status.busy": "2024-10-30T08:23:11.815313Z",
     "iopub.status.idle": "2024-10-30T08:23:11.822817Z",
     "shell.execute_reply": "2024-10-30T08:23:11.822015Z"
    },
    "papermill": {
     "duration": 0.020965,
     "end_time": "2024-10-30T08:23:11.824827",
     "exception": false,
     "start_time": "2024-10-30T08:23:11.803862",
     "status": "completed"
    },
    "tags": []
   },
   "outputs": [
    {
     "data": {
      "text/plain": [
       "array([[-0.23082038, -0.94449979, -0.70174202, ...,  1.71490137,\n",
       "        -0.57273139,  0.91509065],\n",
       "       [-0.25150912, -0.94449979, -0.35520275, ..., -0.58312392,\n",
       "        -0.57273139, -1.09278791],\n",
       "       [-0.3963303 ,  0.77498705,  0.33787579, ...,  1.71490137,\n",
       "        -0.57273139, -1.09278791],\n",
       "       ...,\n",
       "       [ 0.22433188,  0.58393295,  1.3774936 , ..., -0.58312392,\n",
       "        -0.57273139, -1.09278791],\n",
       "       [ 0.13123255,  0.01077067,  1.03095433, ..., -0.58312392,\n",
       "        -0.57273139, -1.09278791],\n",
       "       [ 1.1656695 ,  0.29735181,  0.33787579, ...,  1.71490137,\n",
       "        -0.57273139,  0.91509065]])"
      ]
     },
     "execution_count": 17,
     "metadata": {},
     "output_type": "execute_result"
    }
   ],
   "source": [
    "X_train_scaled"
   ]
  },
  {
   "cell_type": "code",
   "execution_count": 18,
   "id": "4552a654",
   "metadata": {
    "execution": {
     "iopub.execute_input": "2024-10-30T08:23:11.848226Z",
     "iopub.status.busy": "2024-10-30T08:23:11.847562Z",
     "iopub.status.idle": "2024-10-30T08:23:23.384102Z",
     "shell.execute_reply": "2024-10-30T08:23:23.383294Z"
    },
    "papermill": {
     "duration": 11.55036,
     "end_time": "2024-10-30T08:23:23.386269",
     "exception": false,
     "start_time": "2024-10-30T08:23:11.835909",
     "status": "completed"
    },
    "tags": []
   },
   "outputs": [],
   "source": [
    "import tensorflow\n",
    "from tensorflow import keras\n",
    "from tensorflow.keras import Sequential\n",
    "from tensorflow.keras.layers import Dense"
   ]
  },
  {
   "cell_type": "code",
   "execution_count": 19,
   "id": "407a9d03",
   "metadata": {
    "execution": {
     "iopub.execute_input": "2024-10-30T08:23:23.410141Z",
     "iopub.status.busy": "2024-10-30T08:23:23.409599Z",
     "iopub.status.idle": "2024-10-30T08:23:24.238678Z",
     "shell.execute_reply": "2024-10-30T08:23:24.237762Z"
    },
    "papermill": {
     "duration": 0.843524,
     "end_time": "2024-10-30T08:23:24.241116",
     "exception": false,
     "start_time": "2024-10-30T08:23:23.397592",
     "status": "completed"
    },
    "tags": []
   },
   "outputs": [
    {
     "name": "stderr",
     "output_type": "stream",
     "text": [
      "/opt/conda/lib/python3.10/site-packages/keras/src/layers/core/dense.py:87: UserWarning: Do not pass an `input_shape`/`input_dim` argument to a layer. When using Sequential models, prefer using an `Input(shape)` object as the first layer in the model instead.\n",
      "  super().__init__(activity_regularizer=activity_regularizer, **kwargs)\n"
     ]
    }
   ],
   "source": [
    "model = Sequential()\n",
    "\n",
    "# model.add(Dense(3, activation='sigmoid', input_dim=11))\n",
    "# model.add(Dense(1, activation='sigmoid'))\n",
    "\n",
    "model.add(Dense(11, activation='relu', input_dim=11))\n",
    "model.add(Dense(11, activation='relu'))\n",
    "model.add(Dense(1, activation='sigmoid'))"
   ]
  },
  {
   "cell_type": "code",
   "execution_count": 20,
   "id": "767e6617",
   "metadata": {
    "execution": {
     "iopub.execute_input": "2024-10-30T08:23:24.278241Z",
     "iopub.status.busy": "2024-10-30T08:23:24.277896Z",
     "iopub.status.idle": "2024-10-30T08:23:24.294792Z",
     "shell.execute_reply": "2024-10-30T08:23:24.293990Z"
    },
    "papermill": {
     "duration": 0.030676,
     "end_time": "2024-10-30T08:23:24.296635",
     "exception": false,
     "start_time": "2024-10-30T08:23:24.265959",
     "status": "completed"
    },
    "tags": []
   },
   "outputs": [
    {
     "data": {
      "text/html": [
       "<pre style=\"white-space:pre;overflow-x:auto;line-height:normal;font-family:Menlo,'DejaVu Sans Mono',consolas,'Courier New',monospace\"><span style=\"font-weight: bold\">Model: \"sequential\"</span>\n",
       "</pre>\n"
      ],
      "text/plain": [
       "\u001b[1mModel: \"sequential\"\u001b[0m\n"
      ]
     },
     "metadata": {},
     "output_type": "display_data"
    },
    {
     "data": {
      "text/html": [
       "<pre style=\"white-space:pre;overflow-x:auto;line-height:normal;font-family:Menlo,'DejaVu Sans Mono',consolas,'Courier New',monospace\">┏━━━━━━━━━━━━━━━━━━━━━━━━━━━━━━━━━┳━━━━━━━━━━━━━━━━━━━━━━━━┳━━━━━━━━━━━━━━━┓\n",
       "┃<span style=\"font-weight: bold\"> Layer (type)                    </span>┃<span style=\"font-weight: bold\"> Output Shape           </span>┃<span style=\"font-weight: bold\">       Param # </span>┃\n",
       "┡━━━━━━━━━━━━━━━━━━━━━━━━━━━━━━━━━╇━━━━━━━━━━━━━━━━━━━━━━━━╇━━━━━━━━━━━━━━━┩\n",
       "│ dense (<span style=\"color: #0087ff; text-decoration-color: #0087ff\">Dense</span>)                   │ (<span style=\"color: #00d7ff; text-decoration-color: #00d7ff\">None</span>, <span style=\"color: #00af00; text-decoration-color: #00af00\">11</span>)             │           <span style=\"color: #00af00; text-decoration-color: #00af00\">132</span> │\n",
       "├─────────────────────────────────┼────────────────────────┼───────────────┤\n",
       "│ dense_1 (<span style=\"color: #0087ff; text-decoration-color: #0087ff\">Dense</span>)                 │ (<span style=\"color: #00d7ff; text-decoration-color: #00d7ff\">None</span>, <span style=\"color: #00af00; text-decoration-color: #00af00\">11</span>)             │           <span style=\"color: #00af00; text-decoration-color: #00af00\">132</span> │\n",
       "├─────────────────────────────────┼────────────────────────┼───────────────┤\n",
       "│ dense_2 (<span style=\"color: #0087ff; text-decoration-color: #0087ff\">Dense</span>)                 │ (<span style=\"color: #00d7ff; text-decoration-color: #00d7ff\">None</span>, <span style=\"color: #00af00; text-decoration-color: #00af00\">1</span>)              │            <span style=\"color: #00af00; text-decoration-color: #00af00\">12</span> │\n",
       "└─────────────────────────────────┴────────────────────────┴───────────────┘\n",
       "</pre>\n"
      ],
      "text/plain": [
       "┏━━━━━━━━━━━━━━━━━━━━━━━━━━━━━━━━━┳━━━━━━━━━━━━━━━━━━━━━━━━┳━━━━━━━━━━━━━━━┓\n",
       "┃\u001b[1m \u001b[0m\u001b[1mLayer (type)                   \u001b[0m\u001b[1m \u001b[0m┃\u001b[1m \u001b[0m\u001b[1mOutput Shape          \u001b[0m\u001b[1m \u001b[0m┃\u001b[1m \u001b[0m\u001b[1m      Param #\u001b[0m\u001b[1m \u001b[0m┃\n",
       "┡━━━━━━━━━━━━━━━━━━━━━━━━━━━━━━━━━╇━━━━━━━━━━━━━━━━━━━━━━━━╇━━━━━━━━━━━━━━━┩\n",
       "│ dense (\u001b[38;5;33mDense\u001b[0m)                   │ (\u001b[38;5;45mNone\u001b[0m, \u001b[38;5;34m11\u001b[0m)             │           \u001b[38;5;34m132\u001b[0m │\n",
       "├─────────────────────────────────┼────────────────────────┼───────────────┤\n",
       "│ dense_1 (\u001b[38;5;33mDense\u001b[0m)                 │ (\u001b[38;5;45mNone\u001b[0m, \u001b[38;5;34m11\u001b[0m)             │           \u001b[38;5;34m132\u001b[0m │\n",
       "├─────────────────────────────────┼────────────────────────┼───────────────┤\n",
       "│ dense_2 (\u001b[38;5;33mDense\u001b[0m)                 │ (\u001b[38;5;45mNone\u001b[0m, \u001b[38;5;34m1\u001b[0m)              │            \u001b[38;5;34m12\u001b[0m │\n",
       "└─────────────────────────────────┴────────────────────────┴───────────────┘\n"
      ]
     },
     "metadata": {},
     "output_type": "display_data"
    },
    {
     "data": {
      "text/html": [
       "<pre style=\"white-space:pre;overflow-x:auto;line-height:normal;font-family:Menlo,'DejaVu Sans Mono',consolas,'Courier New',monospace\"><span style=\"font-weight: bold\"> Total params: </span><span style=\"color: #00af00; text-decoration-color: #00af00\">276</span> (1.08 KB)\n",
       "</pre>\n"
      ],
      "text/plain": [
       "\u001b[1m Total params: \u001b[0m\u001b[38;5;34m276\u001b[0m (1.08 KB)\n"
      ]
     },
     "metadata": {},
     "output_type": "display_data"
    },
    {
     "data": {
      "text/html": [
       "<pre style=\"white-space:pre;overflow-x:auto;line-height:normal;font-family:Menlo,'DejaVu Sans Mono',consolas,'Courier New',monospace\"><span style=\"font-weight: bold\"> Trainable params: </span><span style=\"color: #00af00; text-decoration-color: #00af00\">276</span> (1.08 KB)\n",
       "</pre>\n"
      ],
      "text/plain": [
       "\u001b[1m Trainable params: \u001b[0m\u001b[38;5;34m276\u001b[0m (1.08 KB)\n"
      ]
     },
     "metadata": {},
     "output_type": "display_data"
    },
    {
     "data": {
      "text/html": [
       "<pre style=\"white-space:pre;overflow-x:auto;line-height:normal;font-family:Menlo,'DejaVu Sans Mono',consolas,'Courier New',monospace\"><span style=\"font-weight: bold\"> Non-trainable params: </span><span style=\"color: #00af00; text-decoration-color: #00af00\">0</span> (0.00 B)\n",
       "</pre>\n"
      ],
      "text/plain": [
       "\u001b[1m Non-trainable params: \u001b[0m\u001b[38;5;34m0\u001b[0m (0.00 B)\n"
      ]
     },
     "metadata": {},
     "output_type": "display_data"
    }
   ],
   "source": [
    "model.summary()"
   ]
  },
  {
   "cell_type": "code",
   "execution_count": 21,
   "id": "0ba8fdd0",
   "metadata": {
    "execution": {
     "iopub.execute_input": "2024-10-30T08:23:24.321850Z",
     "iopub.status.busy": "2024-10-30T08:23:24.321194Z",
     "iopub.status.idle": "2024-10-30T08:23:24.333865Z",
     "shell.execute_reply": "2024-10-30T08:23:24.332955Z"
    },
    "papermill": {
     "duration": 0.027215,
     "end_time": "2024-10-30T08:23:24.335828",
     "exception": false,
     "start_time": "2024-10-30T08:23:24.308613",
     "status": "completed"
    },
    "tags": []
   },
   "outputs": [],
   "source": [
    "model.compile(loss='binary_crossentropy', optimizer='Adam', metrics=['accuracy'])"
   ]
  },
  {
   "cell_type": "code",
   "execution_count": 22,
   "id": "8e46a71f",
   "metadata": {
    "execution": {
     "iopub.execute_input": "2024-10-30T08:23:24.362138Z",
     "iopub.status.busy": "2024-10-30T08:23:24.361593Z",
     "iopub.status.idle": "2024-10-30T08:24:03.529219Z",
     "shell.execute_reply": "2024-10-30T08:24:03.528329Z"
    },
    "papermill": {
     "duration": 39.183675,
     "end_time": "2024-10-30T08:24:03.531304",
     "exception": false,
     "start_time": "2024-10-30T08:23:24.347629",
     "status": "completed"
    },
    "tags": []
   },
   "outputs": [
    {
     "name": "stdout",
     "output_type": "stream",
     "text": [
      "Epoch 1/100\n"
     ]
    },
    {
     "name": "stderr",
     "output_type": "stream",
     "text": [
      "WARNING: All log messages before absl::InitializeLog() is called are written to STDERR\n",
      "I0000 00:00:1730276605.333167      69 service.cc:145] XLA service 0x7f55c00014c0 initialized for platform CUDA (this does not guarantee that XLA will be used). Devices:\n",
      "I0000 00:00:1730276605.333220      69 service.cc:153]   StreamExecutor device (0): Tesla T4, Compute Capability 7.5\n",
      "I0000 00:00:1730276605.333225      69 service.cc:153]   StreamExecutor device (1): Tesla T4, Compute Capability 7.5\n"
     ]
    },
    {
     "name": "stdout",
     "output_type": "stream",
     "text": [
      "\u001b[1m109/200\u001b[0m \u001b[32m━━━━━━━━━━\u001b[0m\u001b[37m━━━━━━━━━━\u001b[0m \u001b[1m0s\u001b[0m 1ms/step - accuracy: 0.6123 - loss: 0.6570"
     ]
    },
    {
     "name": "stderr",
     "output_type": "stream",
     "text": [
      "I0000 00:00:1730276606.306339      69 device_compiler.h:188] Compiled cluster using XLA!  This line is logged at most once for the lifetime of the process.\n"
     ]
    },
    {
     "name": "stdout",
     "output_type": "stream",
     "text": [
      "\u001b[1m200/200\u001b[0m \u001b[32m━━━━━━━━━━━━━━━━━━━━\u001b[0m\u001b[37m\u001b[0m \u001b[1m2s\u001b[0m 3ms/step - accuracy: 0.6718 - loss: 0.6133 - val_accuracy: 0.8012 - val_loss: 0.4664\n",
      "Epoch 2/100\n",
      "\u001b[1m200/200\u001b[0m \u001b[32m━━━━━━━━━━━━━━━━━━━━\u001b[0m\u001b[37m\u001b[0m \u001b[1m0s\u001b[0m 2ms/step - accuracy: 0.8026 - loss: 0.4602 - val_accuracy: 0.8056 - val_loss: 0.4418\n",
      "Epoch 3/100\n",
      "\u001b[1m200/200\u001b[0m \u001b[32m━━━━━━━━━━━━━━━━━━━━\u001b[0m\u001b[37m\u001b[0m \u001b[1m0s\u001b[0m 2ms/step - accuracy: 0.8030 - loss: 0.4346 - val_accuracy: 0.8100 - val_loss: 0.4332\n",
      "Epoch 4/100\n",
      "\u001b[1m200/200\u001b[0m \u001b[32m━━━━━━━━━━━━━━━━━━━━\u001b[0m\u001b[37m\u001b[0m \u001b[1m0s\u001b[0m 2ms/step - accuracy: 0.8129 - loss: 0.4258 - val_accuracy: 0.8131 - val_loss: 0.4274\n",
      "Epoch 5/100\n",
      "\u001b[1m200/200\u001b[0m \u001b[32m━━━━━━━━━━━━━━━━━━━━\u001b[0m\u001b[37m\u001b[0m \u001b[1m0s\u001b[0m 2ms/step - accuracy: 0.8129 - loss: 0.4194 - val_accuracy: 0.8213 - val_loss: 0.4232\n",
      "Epoch 6/100\n",
      "\u001b[1m200/200\u001b[0m \u001b[32m━━━━━━━━━━━━━━━━━━━━\u001b[0m\u001b[37m\u001b[0m \u001b[1m0s\u001b[0m 2ms/step - accuracy: 0.8195 - loss: 0.4177 - val_accuracy: 0.8200 - val_loss: 0.4170\n",
      "Epoch 7/100\n",
      "\u001b[1m200/200\u001b[0m \u001b[32m━━━━━━━━━━━━━━━━━━━━\u001b[0m\u001b[37m\u001b[0m \u001b[1m0s\u001b[0m 2ms/step - accuracy: 0.8151 - loss: 0.4194 - val_accuracy: 0.8225 - val_loss: 0.4113\n",
      "Epoch 8/100\n",
      "\u001b[1m200/200\u001b[0m \u001b[32m━━━━━━━━━━━━━━━━━━━━\u001b[0m\u001b[37m\u001b[0m \u001b[1m0s\u001b[0m 2ms/step - accuracy: 0.8141 - loss: 0.4132 - val_accuracy: 0.8256 - val_loss: 0.4035\n",
      "Epoch 9/100\n",
      "\u001b[1m200/200\u001b[0m \u001b[32m━━━━━━━━━━━━━━━━━━━━\u001b[0m\u001b[37m\u001b[0m \u001b[1m0s\u001b[0m 2ms/step - accuracy: 0.8320 - loss: 0.3942 - val_accuracy: 0.8313 - val_loss: 0.3913\n",
      "Epoch 10/100\n",
      "\u001b[1m200/200\u001b[0m \u001b[32m━━━━━━━━━━━━━━━━━━━━\u001b[0m\u001b[37m\u001b[0m \u001b[1m0s\u001b[0m 2ms/step - accuracy: 0.8413 - loss: 0.3785 - val_accuracy: 0.8388 - val_loss: 0.3782\n",
      "Epoch 11/100\n",
      "\u001b[1m200/200\u001b[0m \u001b[32m━━━━━━━━━━━━━━━━━━━━\u001b[0m\u001b[37m\u001b[0m \u001b[1m0s\u001b[0m 2ms/step - accuracy: 0.8408 - loss: 0.3743 - val_accuracy: 0.8400 - val_loss: 0.3671\n",
      "Epoch 12/100\n",
      "\u001b[1m200/200\u001b[0m \u001b[32m━━━━━━━━━━━━━━━━━━━━\u001b[0m\u001b[37m\u001b[0m \u001b[1m0s\u001b[0m 2ms/step - accuracy: 0.8475 - loss: 0.3626 - val_accuracy: 0.8487 - val_loss: 0.3616\n",
      "Epoch 13/100\n",
      "\u001b[1m200/200\u001b[0m \u001b[32m━━━━━━━━━━━━━━━━━━━━\u001b[0m\u001b[37m\u001b[0m \u001b[1m0s\u001b[0m 2ms/step - accuracy: 0.8502 - loss: 0.3572 - val_accuracy: 0.8400 - val_loss: 0.3609\n",
      "Epoch 14/100\n",
      "\u001b[1m200/200\u001b[0m \u001b[32m━━━━━━━━━━━━━━━━━━━━\u001b[0m\u001b[37m\u001b[0m \u001b[1m0s\u001b[0m 2ms/step - accuracy: 0.8492 - loss: 0.3669 - val_accuracy: 0.8438 - val_loss: 0.3558\n",
      "Epoch 15/100\n",
      "\u001b[1m200/200\u001b[0m \u001b[32m━━━━━━━━━━━━━━━━━━━━\u001b[0m\u001b[37m\u001b[0m \u001b[1m0s\u001b[0m 2ms/step - accuracy: 0.8594 - loss: 0.3483 - val_accuracy: 0.8487 - val_loss: 0.3533\n",
      "Epoch 16/100\n",
      "\u001b[1m200/200\u001b[0m \u001b[32m━━━━━━━━━━━━━━━━━━━━\u001b[0m\u001b[37m\u001b[0m \u001b[1m0s\u001b[0m 2ms/step - accuracy: 0.8532 - loss: 0.3547 - val_accuracy: 0.8494 - val_loss: 0.3524\n",
      "Epoch 17/100\n",
      "\u001b[1m200/200\u001b[0m \u001b[32m━━━━━━━━━━━━━━━━━━━━\u001b[0m\u001b[37m\u001b[0m \u001b[1m0s\u001b[0m 2ms/step - accuracy: 0.8534 - loss: 0.3506 - val_accuracy: 0.8531 - val_loss: 0.3508\n",
      "Epoch 18/100\n",
      "\u001b[1m200/200\u001b[0m \u001b[32m━━━━━━━━━━━━━━━━━━━━\u001b[0m\u001b[37m\u001b[0m \u001b[1m0s\u001b[0m 2ms/step - accuracy: 0.8586 - loss: 0.3453 - val_accuracy: 0.8537 - val_loss: 0.3490\n",
      "Epoch 19/100\n",
      "\u001b[1m200/200\u001b[0m \u001b[32m━━━━━━━━━━━━━━━━━━━━\u001b[0m\u001b[37m\u001b[0m \u001b[1m1s\u001b[0m 2ms/step - accuracy: 0.8587 - loss: 0.3476 - val_accuracy: 0.8531 - val_loss: 0.3500\n",
      "Epoch 20/100\n",
      "\u001b[1m200/200\u001b[0m \u001b[32m━━━━━━━━━━━━━━━━━━━━\u001b[0m\u001b[37m\u001b[0m \u001b[1m0s\u001b[0m 2ms/step - accuracy: 0.8614 - loss: 0.3414 - val_accuracy: 0.8531 - val_loss: 0.3497\n",
      "Epoch 21/100\n",
      "\u001b[1m200/200\u001b[0m \u001b[32m━━━━━━━━━━━━━━━━━━━━\u001b[0m\u001b[37m\u001b[0m \u001b[1m0s\u001b[0m 2ms/step - accuracy: 0.8663 - loss: 0.3257 - val_accuracy: 0.8512 - val_loss: 0.3493\n",
      "Epoch 22/100\n",
      "\u001b[1m200/200\u001b[0m \u001b[32m━━━━━━━━━━━━━━━━━━━━\u001b[0m\u001b[37m\u001b[0m \u001b[1m0s\u001b[0m 2ms/step - accuracy: 0.8638 - loss: 0.3322 - val_accuracy: 0.8519 - val_loss: 0.3482\n",
      "Epoch 23/100\n",
      "\u001b[1m200/200\u001b[0m \u001b[32m━━━━━━━━━━━━━━━━━━━━\u001b[0m\u001b[37m\u001b[0m \u001b[1m0s\u001b[0m 2ms/step - accuracy: 0.8557 - loss: 0.3432 - val_accuracy: 0.8531 - val_loss: 0.3469\n",
      "Epoch 24/100\n",
      "\u001b[1m200/200\u001b[0m \u001b[32m━━━━━━━━━━━━━━━━━━━━\u001b[0m\u001b[37m\u001b[0m \u001b[1m0s\u001b[0m 2ms/step - accuracy: 0.8614 - loss: 0.3378 - val_accuracy: 0.8556 - val_loss: 0.3458\n",
      "Epoch 25/100\n",
      "\u001b[1m200/200\u001b[0m \u001b[32m━━━━━━━━━━━━━━━━━━━━\u001b[0m\u001b[37m\u001b[0m \u001b[1m0s\u001b[0m 2ms/step - accuracy: 0.8585 - loss: 0.3421 - val_accuracy: 0.8550 - val_loss: 0.3459\n",
      "Epoch 26/100\n",
      "\u001b[1m200/200\u001b[0m \u001b[32m━━━━━━━━━━━━━━━━━━━━\u001b[0m\u001b[37m\u001b[0m \u001b[1m0s\u001b[0m 2ms/step - accuracy: 0.8602 - loss: 0.3356 - val_accuracy: 0.8587 - val_loss: 0.3451\n",
      "Epoch 27/100\n",
      "\u001b[1m200/200\u001b[0m \u001b[32m━━━━━━━━━━━━━━━━━━━━\u001b[0m\u001b[37m\u001b[0m \u001b[1m0s\u001b[0m 2ms/step - accuracy: 0.8601 - loss: 0.3341 - val_accuracy: 0.8575 - val_loss: 0.3460\n",
      "Epoch 28/100\n",
      "\u001b[1m200/200\u001b[0m \u001b[32m━━━━━━━━━━━━━━━━━━━━\u001b[0m\u001b[37m\u001b[0m \u001b[1m0s\u001b[0m 2ms/step - accuracy: 0.8618 - loss: 0.3345 - val_accuracy: 0.8525 - val_loss: 0.3475\n",
      "Epoch 29/100\n",
      "\u001b[1m200/200\u001b[0m \u001b[32m━━━━━━━━━━━━━━━━━━━━\u001b[0m\u001b[37m\u001b[0m \u001b[1m0s\u001b[0m 2ms/step - accuracy: 0.8610 - loss: 0.3352 - val_accuracy: 0.8512 - val_loss: 0.3481\n",
      "Epoch 30/100\n",
      "\u001b[1m200/200\u001b[0m \u001b[32m━━━━━━━━━━━━━━━━━━━━\u001b[0m\u001b[37m\u001b[0m \u001b[1m0s\u001b[0m 2ms/step - accuracy: 0.8556 - loss: 0.3370 - val_accuracy: 0.8562 - val_loss: 0.3441\n",
      "Epoch 31/100\n",
      "\u001b[1m200/200\u001b[0m \u001b[32m━━━━━━━━━━━━━━━━━━━━\u001b[0m\u001b[37m\u001b[0m \u001b[1m0s\u001b[0m 2ms/step - accuracy: 0.8607 - loss: 0.3364 - val_accuracy: 0.8556 - val_loss: 0.3449\n",
      "Epoch 32/100\n",
      "\u001b[1m200/200\u001b[0m \u001b[32m━━━━━━━━━━━━━━━━━━━━\u001b[0m\u001b[37m\u001b[0m \u001b[1m0s\u001b[0m 2ms/step - accuracy: 0.8566 - loss: 0.3357 - val_accuracy: 0.8525 - val_loss: 0.3446\n",
      "Epoch 33/100\n",
      "\u001b[1m200/200\u001b[0m \u001b[32m━━━━━━━━━━━━━━━━━━━━\u001b[0m\u001b[37m\u001b[0m \u001b[1m0s\u001b[0m 2ms/step - accuracy: 0.8623 - loss: 0.3244 - val_accuracy: 0.8537 - val_loss: 0.3448\n",
      "Epoch 34/100\n",
      "\u001b[1m200/200\u001b[0m \u001b[32m━━━━━━━━━━━━━━━━━━━━\u001b[0m\u001b[37m\u001b[0m \u001b[1m0s\u001b[0m 2ms/step - accuracy: 0.8572 - loss: 0.3412 - val_accuracy: 0.8537 - val_loss: 0.3451\n",
      "Epoch 35/100\n",
      "\u001b[1m200/200\u001b[0m \u001b[32m━━━━━━━━━━━━━━━━━━━━\u001b[0m\u001b[37m\u001b[0m \u001b[1m0s\u001b[0m 2ms/step - accuracy: 0.8630 - loss: 0.3319 - val_accuracy: 0.8556 - val_loss: 0.3447\n",
      "Epoch 36/100\n",
      "\u001b[1m200/200\u001b[0m \u001b[32m━━━━━━━━━━━━━━━━━━━━\u001b[0m\u001b[37m\u001b[0m \u001b[1m0s\u001b[0m 2ms/step - accuracy: 0.8672 - loss: 0.3207 - val_accuracy: 0.8544 - val_loss: 0.3437\n",
      "Epoch 37/100\n",
      "\u001b[1m200/200\u001b[0m \u001b[32m━━━━━━━━━━━━━━━━━━━━\u001b[0m\u001b[37m\u001b[0m \u001b[1m1s\u001b[0m 2ms/step - accuracy: 0.8605 - loss: 0.3330 - val_accuracy: 0.8537 - val_loss: 0.3433\n",
      "Epoch 38/100\n",
      "\u001b[1m200/200\u001b[0m \u001b[32m━━━━━━━━━━━━━━━━━━━━\u001b[0m\u001b[37m\u001b[0m \u001b[1m0s\u001b[0m 2ms/step - accuracy: 0.8616 - loss: 0.3283 - val_accuracy: 0.8525 - val_loss: 0.3455\n",
      "Epoch 39/100\n",
      "\u001b[1m200/200\u001b[0m \u001b[32m━━━━━━━━━━━━━━━━━━━━\u001b[0m\u001b[37m\u001b[0m \u001b[1m0s\u001b[0m 2ms/step - accuracy: 0.8576 - loss: 0.3355 - val_accuracy: 0.8556 - val_loss: 0.3443\n",
      "Epoch 40/100\n",
      "\u001b[1m200/200\u001b[0m \u001b[32m━━━━━━━━━━━━━━━━━━━━\u001b[0m\u001b[37m\u001b[0m \u001b[1m0s\u001b[0m 2ms/step - accuracy: 0.8594 - loss: 0.3329 - val_accuracy: 0.8537 - val_loss: 0.3431\n",
      "Epoch 41/100\n",
      "\u001b[1m200/200\u001b[0m \u001b[32m━━━━━━━━━━━━━━━━━━━━\u001b[0m\u001b[37m\u001b[0m \u001b[1m0s\u001b[0m 2ms/step - accuracy: 0.8582 - loss: 0.3436 - val_accuracy: 0.8531 - val_loss: 0.3433\n",
      "Epoch 42/100\n",
      "\u001b[1m200/200\u001b[0m \u001b[32m━━━━━━━━━━━━━━━━━━━━\u001b[0m\u001b[37m\u001b[0m \u001b[1m0s\u001b[0m 2ms/step - accuracy: 0.8683 - loss: 0.3218 - val_accuracy: 0.8550 - val_loss: 0.3434\n",
      "Epoch 43/100\n",
      "\u001b[1m200/200\u001b[0m \u001b[32m━━━━━━━━━━━━━━━━━━━━\u001b[0m\u001b[37m\u001b[0m \u001b[1m0s\u001b[0m 2ms/step - accuracy: 0.8594 - loss: 0.3340 - val_accuracy: 0.8550 - val_loss: 0.3450\n",
      "Epoch 44/100\n",
      "\u001b[1m200/200\u001b[0m \u001b[32m━━━━━━━━━━━━━━━━━━━━\u001b[0m\u001b[37m\u001b[0m \u001b[1m0s\u001b[0m 2ms/step - accuracy: 0.8604 - loss: 0.3320 - val_accuracy: 0.8519 - val_loss: 0.3470\n",
      "Epoch 45/100\n",
      "\u001b[1m200/200\u001b[0m \u001b[32m━━━━━━━━━━━━━━━━━━━━\u001b[0m\u001b[37m\u001b[0m \u001b[1m0s\u001b[0m 2ms/step - accuracy: 0.8679 - loss: 0.3178 - val_accuracy: 0.8525 - val_loss: 0.3461\n",
      "Epoch 46/100\n",
      "\u001b[1m200/200\u001b[0m \u001b[32m━━━━━━━━━━━━━━━━━━━━\u001b[0m\u001b[37m\u001b[0m \u001b[1m0s\u001b[0m 2ms/step - accuracy: 0.8683 - loss: 0.3220 - val_accuracy: 0.8531 - val_loss: 0.3452\n",
      "Epoch 47/100\n",
      "\u001b[1m200/200\u001b[0m \u001b[32m━━━━━━━━━━━━━━━━━━━━\u001b[0m\u001b[37m\u001b[0m \u001b[1m0s\u001b[0m 2ms/step - accuracy: 0.8601 - loss: 0.3302 - val_accuracy: 0.8519 - val_loss: 0.3447\n",
      "Epoch 48/100\n",
      "\u001b[1m200/200\u001b[0m \u001b[32m━━━━━━━━━━━━━━━━━━━━\u001b[0m\u001b[37m\u001b[0m \u001b[1m0s\u001b[0m 2ms/step - accuracy: 0.8692 - loss: 0.3165 - val_accuracy: 0.8537 - val_loss: 0.3465\n",
      "Epoch 49/100\n",
      "\u001b[1m200/200\u001b[0m \u001b[32m━━━━━━━━━━━━━━━━━━━━\u001b[0m\u001b[37m\u001b[0m \u001b[1m0s\u001b[0m 2ms/step - accuracy: 0.8689 - loss: 0.3218 - val_accuracy: 0.8537 - val_loss: 0.3445\n",
      "Epoch 50/100\n",
      "\u001b[1m200/200\u001b[0m \u001b[32m━━━━━━━━━━━━━━━━━━━━\u001b[0m\u001b[37m\u001b[0m \u001b[1m0s\u001b[0m 2ms/step - accuracy: 0.8667 - loss: 0.3286 - val_accuracy: 0.8512 - val_loss: 0.3454\n",
      "Epoch 51/100\n",
      "\u001b[1m200/200\u001b[0m \u001b[32m━━━━━━━━━━━━━━━━━━━━\u001b[0m\u001b[37m\u001b[0m \u001b[1m0s\u001b[0m 2ms/step - accuracy: 0.8647 - loss: 0.3248 - val_accuracy: 0.8500 - val_loss: 0.3455\n",
      "Epoch 52/100\n",
      "\u001b[1m200/200\u001b[0m \u001b[32m━━━━━━━━━━━━━━━━━━━━\u001b[0m\u001b[37m\u001b[0m \u001b[1m0s\u001b[0m 2ms/step - accuracy: 0.8665 - loss: 0.3295 - val_accuracy: 0.8525 - val_loss: 0.3452\n",
      "Epoch 53/100\n",
      "\u001b[1m200/200\u001b[0m \u001b[32m━━━━━━━━━━━━━━━━━━━━\u001b[0m\u001b[37m\u001b[0m \u001b[1m0s\u001b[0m 2ms/step - accuracy: 0.8669 - loss: 0.3250 - val_accuracy: 0.8512 - val_loss: 0.3448\n",
      "Epoch 54/100\n",
      "\u001b[1m200/200\u001b[0m \u001b[32m━━━━━━━━━━━━━━━━━━━━\u001b[0m\u001b[37m\u001b[0m \u001b[1m0s\u001b[0m 2ms/step - accuracy: 0.8713 - loss: 0.3143 - val_accuracy: 0.8550 - val_loss: 0.3444\n",
      "Epoch 55/100\n",
      "\u001b[1m200/200\u001b[0m \u001b[32m━━━━━━━━━━━━━━━━━━━━\u001b[0m\u001b[37m\u001b[0m \u001b[1m0s\u001b[0m 2ms/step - accuracy: 0.8630 - loss: 0.3280 - val_accuracy: 0.8537 - val_loss: 0.3454\n",
      "Epoch 56/100\n",
      "\u001b[1m200/200\u001b[0m \u001b[32m━━━━━━━━━━━━━━━━━━━━\u001b[0m\u001b[37m\u001b[0m \u001b[1m0s\u001b[0m 2ms/step - accuracy: 0.8632 - loss: 0.3304 - val_accuracy: 0.8544 - val_loss: 0.3457\n",
      "Epoch 57/100\n",
      "\u001b[1m200/200\u001b[0m \u001b[32m━━━━━━━━━━━━━━━━━━━━\u001b[0m\u001b[37m\u001b[0m \u001b[1m0s\u001b[0m 2ms/step - accuracy: 0.8620 - loss: 0.3258 - val_accuracy: 0.8556 - val_loss: 0.3445\n",
      "Epoch 58/100\n",
      "\u001b[1m200/200\u001b[0m \u001b[32m━━━━━━━━━━━━━━━━━━━━\u001b[0m\u001b[37m\u001b[0m \u001b[1m0s\u001b[0m 2ms/step - accuracy: 0.8721 - loss: 0.3224 - val_accuracy: 0.8544 - val_loss: 0.3458\n",
      "Epoch 59/100\n",
      "\u001b[1m200/200\u001b[0m \u001b[32m━━━━━━━━━━━━━━━━━━━━\u001b[0m\u001b[37m\u001b[0m \u001b[1m0s\u001b[0m 2ms/step - accuracy: 0.8638 - loss: 0.3309 - val_accuracy: 0.8512 - val_loss: 0.3453\n",
      "Epoch 60/100\n",
      "\u001b[1m200/200\u001b[0m \u001b[32m━━━━━━━━━━━━━━━━━━━━\u001b[0m\u001b[37m\u001b[0m \u001b[1m0s\u001b[0m 2ms/step - accuracy: 0.8640 - loss: 0.3238 - val_accuracy: 0.8519 - val_loss: 0.3460\n",
      "Epoch 61/100\n",
      "\u001b[1m200/200\u001b[0m \u001b[32m━━━━━━━━━━━━━━━━━━━━\u001b[0m\u001b[37m\u001b[0m \u001b[1m0s\u001b[0m 2ms/step - accuracy: 0.8699 - loss: 0.3180 - val_accuracy: 0.8531 - val_loss: 0.3457\n",
      "Epoch 62/100\n",
      "\u001b[1m200/200\u001b[0m \u001b[32m━━━━━━━━━━━━━━━━━━━━\u001b[0m\u001b[37m\u001b[0m \u001b[1m0s\u001b[0m 2ms/step - accuracy: 0.8657 - loss: 0.3247 - val_accuracy: 0.8500 - val_loss: 0.3458\n",
      "Epoch 63/100\n",
      "\u001b[1m200/200\u001b[0m \u001b[32m━━━━━━━━━━━━━━━━━━━━\u001b[0m\u001b[37m\u001b[0m \u001b[1m0s\u001b[0m 2ms/step - accuracy: 0.8617 - loss: 0.3211 - val_accuracy: 0.8544 - val_loss: 0.3450\n",
      "Epoch 64/100\n",
      "\u001b[1m200/200\u001b[0m \u001b[32m━━━━━━━━━━━━━━━━━━━━\u001b[0m\u001b[37m\u001b[0m \u001b[1m0s\u001b[0m 2ms/step - accuracy: 0.8648 - loss: 0.3299 - val_accuracy: 0.8531 - val_loss: 0.3447\n",
      "Epoch 65/100\n",
      "\u001b[1m200/200\u001b[0m \u001b[32m━━━━━━━━━━━━━━━━━━━━\u001b[0m\u001b[37m\u001b[0m \u001b[1m0s\u001b[0m 2ms/step - accuracy: 0.8632 - loss: 0.3310 - val_accuracy: 0.8525 - val_loss: 0.3509\n",
      "Epoch 66/100\n",
      "\u001b[1m200/200\u001b[0m \u001b[32m━━━━━━━━━━━━━━━━━━━━\u001b[0m\u001b[37m\u001b[0m \u001b[1m0s\u001b[0m 2ms/step - accuracy: 0.8621 - loss: 0.3259 - val_accuracy: 0.8525 - val_loss: 0.3463\n",
      "Epoch 67/100\n",
      "\u001b[1m200/200\u001b[0m \u001b[32m━━━━━━━━━━━━━━━━━━━━\u001b[0m\u001b[37m\u001b[0m \u001b[1m0s\u001b[0m 2ms/step - accuracy: 0.8690 - loss: 0.3189 - val_accuracy: 0.8506 - val_loss: 0.3440\n",
      "Epoch 68/100\n",
      "\u001b[1m200/200\u001b[0m \u001b[32m━━━━━━━━━━━━━━━━━━━━\u001b[0m\u001b[37m\u001b[0m \u001b[1m0s\u001b[0m 2ms/step - accuracy: 0.8635 - loss: 0.3236 - val_accuracy: 0.8506 - val_loss: 0.3470\n",
      "Epoch 69/100\n",
      "\u001b[1m200/200\u001b[0m \u001b[32m━━━━━━━━━━━━━━━━━━━━\u001b[0m\u001b[37m\u001b[0m \u001b[1m0s\u001b[0m 2ms/step - accuracy: 0.8625 - loss: 0.3283 - val_accuracy: 0.8537 - val_loss: 0.3466\n",
      "Epoch 70/100\n",
      "\u001b[1m200/200\u001b[0m \u001b[32m━━━━━━━━━━━━━━━━━━━━\u001b[0m\u001b[37m\u001b[0m \u001b[1m0s\u001b[0m 2ms/step - accuracy: 0.8622 - loss: 0.3207 - val_accuracy: 0.8481 - val_loss: 0.3462\n",
      "Epoch 71/100\n",
      "\u001b[1m200/200\u001b[0m \u001b[32m━━━━━━━━━━━━━━━━━━━━\u001b[0m\u001b[37m\u001b[0m \u001b[1m0s\u001b[0m 2ms/step - accuracy: 0.8598 - loss: 0.3346 - val_accuracy: 0.8519 - val_loss: 0.3451\n",
      "Epoch 72/100\n",
      "\u001b[1m200/200\u001b[0m \u001b[32m━━━━━━━━━━━━━━━━━━━━\u001b[0m\u001b[37m\u001b[0m \u001b[1m0s\u001b[0m 2ms/step - accuracy: 0.8702 - loss: 0.3170 - val_accuracy: 0.8525 - val_loss: 0.3455\n",
      "Epoch 73/100\n",
      "\u001b[1m200/200\u001b[0m \u001b[32m━━━━━━━━━━━━━━━━━━━━\u001b[0m\u001b[37m\u001b[0m \u001b[1m0s\u001b[0m 2ms/step - accuracy: 0.8655 - loss: 0.3271 - val_accuracy: 0.8506 - val_loss: 0.3456\n",
      "Epoch 74/100\n",
      "\u001b[1m200/200\u001b[0m \u001b[32m━━━━━━━━━━━━━━━━━━━━\u001b[0m\u001b[37m\u001b[0m \u001b[1m0s\u001b[0m 2ms/step - accuracy: 0.8668 - loss: 0.3179 - val_accuracy: 0.8506 - val_loss: 0.3468\n",
      "Epoch 75/100\n",
      "\u001b[1m200/200\u001b[0m \u001b[32m━━━━━━━━━━━━━━━━━━━━\u001b[0m\u001b[37m\u001b[0m \u001b[1m0s\u001b[0m 2ms/step - accuracy: 0.8667 - loss: 0.3277 - val_accuracy: 0.8506 - val_loss: 0.3484\n",
      "Epoch 76/100\n",
      "\u001b[1m200/200\u001b[0m \u001b[32m━━━━━━━━━━━━━━━━━━━━\u001b[0m\u001b[37m\u001b[0m \u001b[1m0s\u001b[0m 2ms/step - accuracy: 0.8685 - loss: 0.3254 - val_accuracy: 0.8525 - val_loss: 0.3461\n",
      "Epoch 77/100\n",
      "\u001b[1m200/200\u001b[0m \u001b[32m━━━━━━━━━━━━━━━━━━━━\u001b[0m\u001b[37m\u001b[0m \u001b[1m0s\u001b[0m 2ms/step - accuracy: 0.8679 - loss: 0.3155 - val_accuracy: 0.8537 - val_loss: 0.3461\n",
      "Epoch 78/100\n",
      "\u001b[1m200/200\u001b[0m \u001b[32m━━━━━━━━━━━━━━━━━━━━\u001b[0m\u001b[37m\u001b[0m \u001b[1m0s\u001b[0m 2ms/step - accuracy: 0.8696 - loss: 0.3173 - val_accuracy: 0.8512 - val_loss: 0.3481\n",
      "Epoch 79/100\n",
      "\u001b[1m200/200\u001b[0m \u001b[32m━━━━━━━━━━━━━━━━━━━━\u001b[0m\u001b[37m\u001b[0m \u001b[1m0s\u001b[0m 2ms/step - accuracy: 0.8622 - loss: 0.3348 - val_accuracy: 0.8506 - val_loss: 0.3477\n",
      "Epoch 80/100\n",
      "\u001b[1m200/200\u001b[0m \u001b[32m━━━━━━━━━━━━━━━━━━━━\u001b[0m\u001b[37m\u001b[0m \u001b[1m0s\u001b[0m 2ms/step - accuracy: 0.8687 - loss: 0.3201 - val_accuracy: 0.8525 - val_loss: 0.3465\n",
      "Epoch 81/100\n",
      "\u001b[1m200/200\u001b[0m \u001b[32m━━━━━━━━━━━━━━━━━━━━\u001b[0m\u001b[37m\u001b[0m \u001b[1m0s\u001b[0m 2ms/step - accuracy: 0.8680 - loss: 0.3155 - val_accuracy: 0.8500 - val_loss: 0.3476\n",
      "Epoch 82/100\n",
      "\u001b[1m200/200\u001b[0m \u001b[32m━━━━━━━━━━━━━━━━━━━━\u001b[0m\u001b[37m\u001b[0m \u001b[1m0s\u001b[0m 2ms/step - accuracy: 0.8676 - loss: 0.3191 - val_accuracy: 0.8506 - val_loss: 0.3462\n",
      "Epoch 83/100\n",
      "\u001b[1m200/200\u001b[0m \u001b[32m━━━━━━━━━━━━━━━━━━━━\u001b[0m\u001b[37m\u001b[0m \u001b[1m0s\u001b[0m 2ms/step - accuracy: 0.8722 - loss: 0.3198 - val_accuracy: 0.8519 - val_loss: 0.3454\n",
      "Epoch 84/100\n",
      "\u001b[1m200/200\u001b[0m \u001b[32m━━━━━━━━━━━━━━━━━━━━\u001b[0m\u001b[37m\u001b[0m \u001b[1m0s\u001b[0m 2ms/step - accuracy: 0.8606 - loss: 0.3258 - val_accuracy: 0.8494 - val_loss: 0.3473\n",
      "Epoch 85/100\n",
      "\u001b[1m200/200\u001b[0m \u001b[32m━━━━━━━━━━━━━━━━━━━━\u001b[0m\u001b[37m\u001b[0m \u001b[1m0s\u001b[0m 2ms/step - accuracy: 0.8708 - loss: 0.3120 - val_accuracy: 0.8487 - val_loss: 0.3476\n",
      "Epoch 86/100\n",
      "\u001b[1m200/200\u001b[0m \u001b[32m━━━━━━━━━━━━━━━━━━━━\u001b[0m\u001b[37m\u001b[0m \u001b[1m0s\u001b[0m 2ms/step - accuracy: 0.8697 - loss: 0.3187 - val_accuracy: 0.8525 - val_loss: 0.3446\n",
      "Epoch 87/100\n",
      "\u001b[1m200/200\u001b[0m \u001b[32m━━━━━━━━━━━━━━━━━━━━\u001b[0m\u001b[37m\u001b[0m \u001b[1m0s\u001b[0m 2ms/step - accuracy: 0.8707 - loss: 0.3170 - val_accuracy: 0.8500 - val_loss: 0.3485\n",
      "Epoch 88/100\n",
      "\u001b[1m200/200\u001b[0m \u001b[32m━━━━━━━━━━━━━━━━━━━━\u001b[0m\u001b[37m\u001b[0m \u001b[1m0s\u001b[0m 2ms/step - accuracy: 0.8644 - loss: 0.3245 - val_accuracy: 0.8481 - val_loss: 0.3459\n",
      "Epoch 89/100\n",
      "\u001b[1m200/200\u001b[0m \u001b[32m━━━━━━━━━━━━━━━━━━━━\u001b[0m\u001b[37m\u001b[0m \u001b[1m0s\u001b[0m 2ms/step - accuracy: 0.8705 - loss: 0.3211 - val_accuracy: 0.8519 - val_loss: 0.3473\n",
      "Epoch 90/100\n",
      "\u001b[1m200/200\u001b[0m \u001b[32m━━━━━━━━━━━━━━━━━━━━\u001b[0m\u001b[37m\u001b[0m \u001b[1m0s\u001b[0m 2ms/step - accuracy: 0.8709 - loss: 0.3149 - val_accuracy: 0.8519 - val_loss: 0.3468\n",
      "Epoch 91/100\n",
      "\u001b[1m200/200\u001b[0m \u001b[32m━━━━━━━━━━━━━━━━━━━━\u001b[0m\u001b[37m\u001b[0m \u001b[1m0s\u001b[0m 2ms/step - accuracy: 0.8698 - loss: 0.3157 - val_accuracy: 0.8519 - val_loss: 0.3461\n",
      "Epoch 92/100\n",
      "\u001b[1m200/200\u001b[0m \u001b[32m━━━━━━━━━━━━━━━━━━━━\u001b[0m\u001b[37m\u001b[0m \u001b[1m0s\u001b[0m 2ms/step - accuracy: 0.8686 - loss: 0.3234 - val_accuracy: 0.8481 - val_loss: 0.3461\n",
      "Epoch 93/100\n",
      "\u001b[1m200/200\u001b[0m \u001b[32m━━━━━━━━━━━━━━━━━━━━\u001b[0m\u001b[37m\u001b[0m \u001b[1m0s\u001b[0m 2ms/step - accuracy: 0.8695 - loss: 0.3177 - val_accuracy: 0.8487 - val_loss: 0.3473\n",
      "Epoch 94/100\n",
      "\u001b[1m200/200\u001b[0m \u001b[32m━━━━━━━━━━━━━━━━━━━━\u001b[0m\u001b[37m\u001b[0m \u001b[1m0s\u001b[0m 2ms/step - accuracy: 0.8711 - loss: 0.3182 - val_accuracy: 0.8500 - val_loss: 0.3463\n",
      "Epoch 95/100\n",
      "\u001b[1m200/200\u001b[0m \u001b[32m━━━━━━━━━━━━━━━━━━━━\u001b[0m\u001b[37m\u001b[0m \u001b[1m0s\u001b[0m 2ms/step - accuracy: 0.8678 - loss: 0.3207 - val_accuracy: 0.8481 - val_loss: 0.3447\n",
      "Epoch 96/100\n",
      "\u001b[1m200/200\u001b[0m \u001b[32m━━━━━━━━━━━━━━━━━━━━\u001b[0m\u001b[37m\u001b[0m \u001b[1m0s\u001b[0m 2ms/step - accuracy: 0.8582 - loss: 0.3396 - val_accuracy: 0.8506 - val_loss: 0.3453\n",
      "Epoch 97/100\n",
      "\u001b[1m200/200\u001b[0m \u001b[32m━━━━━━━━━━━━━━━━━━━━\u001b[0m\u001b[37m\u001b[0m \u001b[1m0s\u001b[0m 2ms/step - accuracy: 0.8686 - loss: 0.3157 - val_accuracy: 0.8506 - val_loss: 0.3466\n",
      "Epoch 98/100\n",
      "\u001b[1m200/200\u001b[0m \u001b[32m━━━━━━━━━━━━━━━━━━━━\u001b[0m\u001b[37m\u001b[0m \u001b[1m0s\u001b[0m 2ms/step - accuracy: 0.8592 - loss: 0.3356 - val_accuracy: 0.8531 - val_loss: 0.3462\n",
      "Epoch 99/100\n",
      "\u001b[1m200/200\u001b[0m \u001b[32m━━━━━━━━━━━━━━━━━━━━\u001b[0m\u001b[37m\u001b[0m \u001b[1m0s\u001b[0m 2ms/step - accuracy: 0.8576 - loss: 0.3318 - val_accuracy: 0.8512 - val_loss: 0.3471\n",
      "Epoch 100/100\n",
      "\u001b[1m200/200\u001b[0m \u001b[32m━━━━━━━━━━━━━━━━━━━━\u001b[0m\u001b[37m\u001b[0m \u001b[1m0s\u001b[0m 2ms/step - accuracy: 0.8705 - loss: 0.3214 - val_accuracy: 0.8531 - val_loss: 0.3457\n"
     ]
    }
   ],
   "source": [
    "history = model.fit(X_train_scaled, y_train, epochs=100, validation_split=0.2)"
   ]
  },
  {
   "cell_type": "code",
   "execution_count": 23,
   "id": "f5fb09e0",
   "metadata": {
    "execution": {
     "iopub.execute_input": "2024-10-30T08:24:03.680182Z",
     "iopub.status.busy": "2024-10-30T08:24:03.679431Z",
     "iopub.status.idle": "2024-10-30T08:24:03.690408Z",
     "shell.execute_reply": "2024-10-30T08:24:03.689559Z"
    },
    "papermill": {
     "duration": 0.087372,
     "end_time": "2024-10-30T08:24:03.692192",
     "exception": false,
     "start_time": "2024-10-30T08:24:03.604820",
     "status": "completed"
    },
    "tags": []
   },
   "outputs": [
    {
     "data": {
      "text/plain": [
       "[array([[ 2.6801527e-02,  5.8657560e-04, -8.3332479e-02, -4.8278219e-01,\n",
       "          9.0256222e-02, -3.3048722e-01, -2.0970340e-01, -9.5590293e-02,\n",
       "          6.2798876e-01,  2.1200048e-02, -5.1356051e-02],\n",
       "        [-6.8173975e-01,  3.5640371e-01,  5.8159769e-01, -2.6696333e-01,\n",
       "          4.5565957e-01, -2.1884466e-02,  1.0531499e+00,  1.2708571e+00,\n",
       "         -4.2826545e-01,  2.8268358e-01, -2.6260074e-02],\n",
       "        [ 1.5409678e-05, -1.0132601e-01,  6.2592953e-01, -9.1238417e-02,\n",
       "          2.7141979e-02, -7.9598114e-02,  3.4528948e-02, -1.2620082e-01,\n",
       "         -5.8624864e-01,  1.2666957e-01,  2.5109377e-02],\n",
       "        [-3.4153166e-01, -2.6091215e-01, -6.8272948e-01,  4.4495770e-01,\n",
       "          2.0698445e-01,  2.9434696e-01,  1.4481710e-01, -6.5305971e-02,\n",
       "         -1.2868895e-01, -1.8898718e-01, -1.3904534e-01],\n",
       "        [ 2.0214021e-01, -9.8993564e-01, -4.4173023e-01,  7.3167437e-01,\n",
       "          8.9826924e-01, -2.1038066e-01,  3.5599279e-01, -3.2898262e-01,\n",
       "         -6.5373346e-02,  7.7988349e-02,  3.8942921e-01],\n",
       "        [-5.2692938e-01,  1.3231678e-01, -3.7391475e-01,  3.7804205e-02,\n",
       "         -1.1636449e-01,  1.4221408e-02,  6.7810386e-01, -4.7082523e-01,\n",
       "         -2.4271686e-01,  5.4219145e-01, -1.0728770e-01],\n",
       "        [-4.0475109e-01, -3.7921333e-01,  7.6842314e-01,  4.8861228e-02,\n",
       "         -2.4161330e-01, -3.0479884e-01,  4.8069572e-01, -1.3379118e-01,\n",
       "          9.5121212e-02,  5.1629776e-01, -2.2214435e-01],\n",
       "        [-1.2780176e-01,  9.3636952e-02, -2.0706628e-01, -3.7800914e-01,\n",
       "          2.2417070e-02, -1.1394792e-01,  1.4145388e-01, -9.1184437e-02,\n",
       "          4.6187213e-01,  4.5437455e-01, -3.2926688e-01],\n",
       "        [ 3.3663366e-02,  2.1099213e-01, -2.8757954e-01, -2.0345668e-01,\n",
       "         -2.8524438e-01,  4.5866233e-01,  1.8324722e-01, -1.7909366e-01,\n",
       "         -4.5786276e-01, -2.6063508e-01, -1.0404789e+00],\n",
       "        [-1.3654366e-01,  5.7237260e-03,  4.6080524e-01,  2.2412367e-01,\n",
       "          5.6577131e-02, -7.4187768e-01,  1.3145067e-01, -5.0664115e-01,\n",
       "         -3.8236654e-01, -1.5214682e-01,  3.3310407e-01],\n",
       "        [ 4.8981783e-01, -2.0056222e-02,  2.1567045e-01, -4.5343068e-01,\n",
       "          6.6479221e-02, -1.8625259e-01,  4.8970286e-02,  1.5558930e-01,\n",
       "         -8.8207044e-02,  6.5829742e-01,  2.2664811e-02]], dtype=float32),\n",
       " array([ 0.55356634,  0.37024325, -0.34780118, -0.00239821, -0.37047878,\n",
       "         0.46854514, -0.29355004, -0.3404362 ,  0.1341303 ,  0.56782895,\n",
       "         0.57390326], dtype=float32)]"
      ]
     },
     "execution_count": 23,
     "metadata": {},
     "output_type": "execute_result"
    }
   ],
   "source": [
    "model.layers[0].get_weights()"
   ]
  },
  {
   "cell_type": "code",
   "execution_count": 24,
   "id": "aa2adea0",
   "metadata": {
    "execution": {
     "iopub.execute_input": "2024-10-30T08:24:03.840156Z",
     "iopub.status.busy": "2024-10-30T08:24:03.839345Z",
     "iopub.status.idle": "2024-10-30T08:24:03.847578Z",
     "shell.execute_reply": "2024-10-30T08:24:03.846732Z"
    },
    "papermill": {
     "duration": 0.084491,
     "end_time": "2024-10-30T08:24:03.849432",
     "exception": false,
     "start_time": "2024-10-30T08:24:03.764941",
     "status": "completed"
    },
    "tags": []
   },
   "outputs": [
    {
     "data": {
      "text/plain": [
       "[array([[ 0.5959515 , -0.06315481, -0.4589338 ,  0.5199067 ,  0.09447113,\n",
       "         -0.34944138, -0.27360383, -0.0050925 ,  0.19534782,  0.40665507,\n",
       "          0.56340694],\n",
       "        [-0.37567276, -0.17818205, -0.07996964, -0.44062954,  0.82609415,\n",
       "         -0.125526  , -0.06758227, -0.7535973 , -0.4286022 , -0.14556544,\n",
       "          0.09063741],\n",
       "        [ 0.11867761, -0.0612092 , -0.6110762 , -0.6425251 ,  0.16694403,\n",
       "         -0.52638143,  0.21598446,  0.43193465, -0.03964932, -0.12132555,\n",
       "         -0.97200507],\n",
       "        [-0.08721606,  0.4347005 , -0.32651633, -0.8144289 ,  0.42902806,\n",
       "          0.01014304, -0.26355043,  0.0727476 , -0.7088899 ,  0.33996457,\n",
       "          0.47613215],\n",
       "        [-0.4261815 , -0.08015956,  0.771867  , -0.14534014,  0.48854735,\n",
       "         -0.258028  ,  0.1319099 , -0.40753242, -0.33840677, -0.2923214 ,\n",
       "          0.52966744],\n",
       "        [-0.21618244,  0.525048  ,  0.24627237, -0.26777884,  0.11961903,\n",
       "          0.11890079,  0.6220026 ,  0.10045911, -0.34304568,  0.42794716,\n",
       "         -0.48743713],\n",
       "        [ 0.6434911 , -0.40942106,  0.5364194 ,  0.13895293, -0.79625356,\n",
       "         -0.55836874,  0.08139416,  0.42847386,  0.7332164 , -0.33851635,\n",
       "          0.624548  ],\n",
       "        [ 0.18336715, -0.372088  , -0.11902878,  0.44773847,  0.60262996,\n",
       "         -0.32885462, -0.54712117,  0.28143278,  0.58835316, -0.42702293,\n",
       "         -0.3477573 ],\n",
       "        [ 0.31093484,  0.2799292 , -0.6132298 ,  0.03593489,  0.02301692,\n",
       "          0.13277036, -0.12218621, -0.31849262,  0.37319472,  0.37946573,\n",
       "          0.428478  ],\n",
       "        [ 0.3089334 ,  0.36095098,  0.05208683,  0.3351257 ,  0.59544206,\n",
       "          0.6991966 ,  0.1743909 ,  0.15379918, -0.37044677,  0.29968938,\n",
       "          0.29355696],\n",
       "        [-0.02406191,  0.33017883, -0.03959595,  0.19528373,  0.11933819,\n",
       "          0.5080802 ,  0.57063687,  0.0661723 , -0.21541221,  0.30481684,\n",
       "         -0.21217728]], dtype=float32),\n",
       " array([ 0.23297481,  0.46258864,  0.30801398,  0.24932761, -0.1980161 ,\n",
       "         0.6207282 ,  0.22490986,  0.33732188, -0.4448328 ,  0.66504073,\n",
       "        -0.320548  ], dtype=float32)]"
      ]
     },
     "execution_count": 24,
     "metadata": {},
     "output_type": "execute_result"
    }
   ],
   "source": [
    "model.layers[1].get_weights()"
   ]
  },
  {
   "cell_type": "code",
   "execution_count": 25,
   "id": "84cd6cd2",
   "metadata": {
    "execution": {
     "iopub.execute_input": "2024-10-30T08:24:03.997258Z",
     "iopub.status.busy": "2024-10-30T08:24:03.996581Z",
     "iopub.status.idle": "2024-10-30T08:24:04.004834Z",
     "shell.execute_reply": "2024-10-30T08:24:04.004022Z"
    },
    "papermill": {
     "duration": 0.084181,
     "end_time": "2024-10-30T08:24:04.006652",
     "exception": false,
     "start_time": "2024-10-30T08:24:03.922471",
     "status": "completed"
    },
    "tags": []
   },
   "outputs": [
    {
     "data": {
      "text/plain": [
       "[array([[-0.3570432 ],\n",
       "        [-0.24057421],\n",
       "        [ 1.0391654 ],\n",
       "        [-1.1117178 ],\n",
       "        [ 0.9859083 ],\n",
       "        [-1.024161  ],\n",
       "        [-0.18600507],\n",
       "        [-0.95068115],\n",
       "        [-1.1482172 ],\n",
       "        [-0.7777202 ],\n",
       "        [ 1.1659646 ]], dtype=float32),\n",
       " array([-0.07361916], dtype=float32)]"
      ]
     },
     "execution_count": 25,
     "metadata": {},
     "output_type": "execute_result"
    }
   ],
   "source": [
    "model.layers[2].get_weights()"
   ]
  },
  {
   "cell_type": "code",
   "execution_count": 26,
   "id": "90c798d2",
   "metadata": {
    "execution": {
     "iopub.execute_input": "2024-10-30T08:24:04.172350Z",
     "iopub.status.busy": "2024-10-30T08:24:04.171992Z",
     "iopub.status.idle": "2024-10-30T08:24:04.686287Z",
     "shell.execute_reply": "2024-10-30T08:24:04.685362Z"
    },
    "papermill": {
     "duration": 0.6064,
     "end_time": "2024-10-30T08:24:04.688515",
     "exception": false,
     "start_time": "2024-10-30T08:24:04.082115",
     "status": "completed"
    },
    "tags": []
   },
   "outputs": [
    {
     "name": "stdout",
     "output_type": "stream",
     "text": [
      "\u001b[1m63/63\u001b[0m \u001b[32m━━━━━━━━━━━━━━━━━━━━\u001b[0m\u001b[37m\u001b[0m \u001b[1m0s\u001b[0m 4ms/step\n"
     ]
    }
   ],
   "source": [
    "y_log = model.predict(X_test_scaled)"
   ]
  },
  {
   "cell_type": "code",
   "execution_count": 27,
   "id": "80de26af",
   "metadata": {
    "execution": {
     "iopub.execute_input": "2024-10-30T08:24:04.874703Z",
     "iopub.status.busy": "2024-10-30T08:24:04.874338Z",
     "iopub.status.idle": "2024-10-30T08:24:05.094117Z",
     "shell.execute_reply": "2024-10-30T08:24:05.093237Z"
    },
    "papermill": {
     "duration": 0.332894,
     "end_time": "2024-10-30T08:24:05.096564",
     "exception": false,
     "start_time": "2024-10-30T08:24:04.763670",
     "status": "completed"
    },
    "tags": []
   },
   "outputs": [
    {
     "name": "stdout",
     "output_type": "stream",
     "text": [
      "\u001b[1m63/63\u001b[0m \u001b[32m━━━━━━━━━━━━━━━━━━━━\u001b[0m\u001b[37m\u001b[0m \u001b[1m0s\u001b[0m 1ms/step\n"
     ]
    }
   ],
   "source": [
    "y_log = model.predict(X_test_scaled)"
   ]
  },
  {
   "cell_type": "code",
   "execution_count": 28,
   "id": "c8fdcb57",
   "metadata": {
    "execution": {
     "iopub.execute_input": "2024-10-30T08:24:05.255900Z",
     "iopub.status.busy": "2024-10-30T08:24:05.255565Z",
     "iopub.status.idle": "2024-10-30T08:24:05.260035Z",
     "shell.execute_reply": "2024-10-30T08:24:05.259049Z"
    },
    "papermill": {
     "duration": 0.081932,
     "end_time": "2024-10-30T08:24:05.262033",
     "exception": false,
     "start_time": "2024-10-30T08:24:05.180101",
     "status": "completed"
    },
    "tags": []
   },
   "outputs": [],
   "source": [
    "y_pred = np.where(y_log>0.5,1,0)"
   ]
  },
  {
   "cell_type": "code",
   "execution_count": 29,
   "id": "a13fa13d",
   "metadata": {
    "execution": {
     "iopub.execute_input": "2024-10-30T08:24:05.413256Z",
     "iopub.status.busy": "2024-10-30T08:24:05.412909Z",
     "iopub.status.idle": "2024-10-30T08:24:05.419598Z",
     "shell.execute_reply": "2024-10-30T08:24:05.418632Z"
    },
    "papermill": {
     "duration": 0.08395,
     "end_time": "2024-10-30T08:24:05.421619",
     "exception": false,
     "start_time": "2024-10-30T08:24:05.337669",
     "status": "completed"
    },
    "tags": []
   },
   "outputs": [
    {
     "data": {
      "text/plain": [
       "array([[0],\n",
       "       [0],\n",
       "       [0],\n",
       "       ...,\n",
       "       [0],\n",
       "       [0],\n",
       "       [0]])"
      ]
     },
     "execution_count": 29,
     "metadata": {},
     "output_type": "execute_result"
    }
   ],
   "source": [
    "y_pred"
   ]
  },
  {
   "cell_type": "code",
   "execution_count": 30,
   "id": "67cd8847",
   "metadata": {
    "execution": {
     "iopub.execute_input": "2024-10-30T08:24:05.578456Z",
     "iopub.status.busy": "2024-10-30T08:24:05.577917Z",
     "iopub.status.idle": "2024-10-30T08:24:05.585820Z",
     "shell.execute_reply": "2024-10-30T08:24:05.584973Z"
    },
    "papermill": {
     "duration": 0.084488,
     "end_time": "2024-10-30T08:24:05.587779",
     "exception": false,
     "start_time": "2024-10-30T08:24:05.503291",
     "status": "completed"
    },
    "tags": []
   },
   "outputs": [
    {
     "data": {
      "text/plain": [
       "0.8575"
      ]
     },
     "execution_count": 30,
     "metadata": {},
     "output_type": "execute_result"
    }
   ],
   "source": [
    "from sklearn.metrics import accuracy_score\n",
    "accuracy_score(y_test, y_pred)"
   ]
  },
  {
   "cell_type": "code",
   "execution_count": 31,
   "id": "21ba8aef",
   "metadata": {
    "execution": {
     "iopub.execute_input": "2024-10-30T08:24:05.740374Z",
     "iopub.status.busy": "2024-10-30T08:24:05.739678Z",
     "iopub.status.idle": "2024-10-30T08:24:05.750423Z",
     "shell.execute_reply": "2024-10-30T08:24:05.749595Z"
    },
    "papermill": {
     "duration": 0.088591,
     "end_time": "2024-10-30T08:24:05.752286",
     "exception": false,
     "start_time": "2024-10-30T08:24:05.663695",
     "status": "completed"
    },
    "tags": []
   },
   "outputs": [
    {
     "data": {
      "text/plain": [
       "{'accuracy': [0.758593738079071,\n",
       "  0.7987499833106995,\n",
       "  0.8010937571525574,\n",
       "  0.8064062595367432,\n",
       "  0.8104687333106995,\n",
       "  0.8142187595367432,\n",
       "  0.8196874856948853,\n",
       "  0.8224999904632568,\n",
       "  0.8309375047683716,\n",
       "  0.8395312428474426,\n",
       "  0.8451562523841858,\n",
       "  0.8481249809265137,\n",
       "  0.8506249785423279,\n",
       "  0.8528125286102295,\n",
       "  0.8535937666893005,\n",
       "  0.8568750023841858,\n",
       "  0.8567187786102295,\n",
       "  0.8571875095367432,\n",
       "  0.8579687476158142,\n",
       "  0.8590624928474426,\n",
       "  0.8595312237739563,\n",
       "  0.8581249713897705,\n",
       "  0.8592187762260437,\n",
       "  0.8598437309265137,\n",
       "  0.8603125214576721,\n",
       "  0.8610937595367432,\n",
       "  0.8607812523841858,\n",
       "  0.8618749976158142,\n",
       "  0.8606250286102295,\n",
       "  0.8603125214576721,\n",
       "  0.8614062666893005,\n",
       "  0.8607812523841858,\n",
       "  0.8621875047683716,\n",
       "  0.8615624904632568,\n",
       "  0.8629687428474426,\n",
       "  0.8623437285423279,\n",
       "  0.8635937571525574,\n",
       "  0.8618749976158142,\n",
       "  0.8615624904632568,\n",
       "  0.8631250262260437,\n",
       "  0.8642187714576721,\n",
       "  0.8651562333106995,\n",
       "  0.8651562333106995,\n",
       "  0.864062488079071,\n",
       "  0.8651562333106995,\n",
       "  0.8643749952316284,\n",
       "  0.8650000095367432,\n",
       "  0.8653125166893005,\n",
       "  0.8639062643051147,\n",
       "  0.8642187714576721,\n",
       "  0.8637499809265137,\n",
       "  0.864062488079071,\n",
       "  0.8659374713897705,\n",
       "  0.8645312786102295,\n",
       "  0.8643749952316284,\n",
       "  0.8668749928474426,\n",
       "  0.8646875023841858,\n",
       "  0.8646875023841858,\n",
       "  0.8665624856948853,\n",
       "  0.8651562333106995,\n",
       "  0.8648437261581421,\n",
       "  0.8654687404632568,\n",
       "  0.8639062643051147,\n",
       "  0.8650000095367432,\n",
       "  0.8662499785423279,\n",
       "  0.8660937547683716,\n",
       "  0.8676562309265137,\n",
       "  0.8639062643051147,\n",
       "  0.8648437261581421,\n",
       "  0.8656250238418579,\n",
       "  0.8639062643051147,\n",
       "  0.8667187690734863,\n",
       "  0.8657812476158142,\n",
       "  0.8659374713897705,\n",
       "  0.8682812452316284,\n",
       "  0.8670312762260437,\n",
       "  0.8678125143051147,\n",
       "  0.8657812476158142,\n",
       "  0.8665624856948853,\n",
       "  0.8676562309265137,\n",
       "  0.8665624856948853,\n",
       "  0.8662499785423279,\n",
       "  0.8668749928474426,\n",
       "  0.8659374713897705,\n",
       "  0.8673437237739563,\n",
       "  0.8665624856948853,\n",
       "  0.8656250238418579,\n",
       "  0.8665624856948853,\n",
       "  0.8660937547683716,\n",
       "  0.8678125143051147,\n",
       "  0.8667187690734863,\n",
       "  0.8681250214576721,\n",
       "  0.8671875,\n",
       "  0.8673437237739563,\n",
       "  0.8675000071525574,\n",
       "  0.8662499785423279,\n",
       "  0.8668749928474426,\n",
       "  0.8668749928474426,\n",
       "  0.8665624856948853,\n",
       "  0.8670312762260437],\n",
       " 'loss': [0.5380402207374573,\n",
       "  0.45409539341926575,\n",
       "  0.4367527365684509,\n",
       "  0.42873072624206543,\n",
       "  0.4227844178676605,\n",
       "  0.41801443696022034,\n",
       "  0.4119911193847656,\n",
       "  0.4050477147102356,\n",
       "  0.3948177993297577,\n",
       "  0.38178321719169617,\n",
       "  0.37061241269111633,\n",
       "  0.3629888892173767,\n",
       "  0.3578425645828247,\n",
       "  0.35397613048553467,\n",
       "  0.35130777955055237,\n",
       "  0.3486369252204895,\n",
       "  0.3464902937412262,\n",
       "  0.3454899191856384,\n",
       "  0.3437045216560364,\n",
       "  0.34239277243614197,\n",
       "  0.3414449691772461,\n",
       "  0.3403136432170868,\n",
       "  0.3388022482395172,\n",
       "  0.338388592004776,\n",
       "  0.3372175693511963,\n",
       "  0.335927277803421,\n",
       "  0.3356568217277527,\n",
       "  0.33455199003219604,\n",
       "  0.3342237174510956,\n",
       "  0.3335253894329071,\n",
       "  0.33275070786476135,\n",
       "  0.3329308032989502,\n",
       "  0.3319915533065796,\n",
       "  0.33187371492385864,\n",
       "  0.33062946796417236,\n",
       "  0.3304766118526459,\n",
       "  0.3301924467086792,\n",
       "  0.3296804428100586,\n",
       "  0.3296293616294861,\n",
       "  0.32958003878593445,\n",
       "  0.32894280552864075,\n",
       "  0.328141987323761,\n",
       "  0.32778123021125793,\n",
       "  0.3283078372478485,\n",
       "  0.3275248408317566,\n",
       "  0.3277736008167267,\n",
       "  0.3274063766002655,\n",
       "  0.32696598768234253,\n",
       "  0.3273458480834961,\n",
       "  0.32732129096984863,\n",
       "  0.3263992667198181,\n",
       "  0.32627421617507935,\n",
       "  0.3261195719242096,\n",
       "  0.3263126313686371,\n",
       "  0.32588139176368713,\n",
       "  0.3255773186683655,\n",
       "  0.3257623612880707,\n",
       "  0.32555022835731506,\n",
       "  0.3252934515476227,\n",
       "  0.325076699256897,\n",
       "  0.32480210065841675,\n",
       "  0.3246181011199951,\n",
       "  0.32450786232948303,\n",
       "  0.3245909512042999,\n",
       "  0.32448267936706543,\n",
       "  0.3246158957481384,\n",
       "  0.32372692227363586,\n",
       "  0.32388609647750854,\n",
       "  0.32379236817359924,\n",
       "  0.32397347688674927,\n",
       "  0.32407933473587036,\n",
       "  0.32348397374153137,\n",
       "  0.32344910502433777,\n",
       "  0.32358044385910034,\n",
       "  0.32263168692588806,\n",
       "  0.3237108886241913,\n",
       "  0.32320788502693176,\n",
       "  0.32308581471443176,\n",
       "  0.3229964077472687,\n",
       "  0.3233952820301056,\n",
       "  0.3225659132003784,\n",
       "  0.3226260840892792,\n",
       "  0.3227773606777191,\n",
       "  0.3222491145133972,\n",
       "  0.32216790318489075,\n",
       "  0.32239970564842224,\n",
       "  0.3225097358226776,\n",
       "  0.32206276059150696,\n",
       "  0.3222600817680359,\n",
       "  0.32252928614616394,\n",
       "  0.32264041900634766,\n",
       "  0.3218769133090973,\n",
       "  0.32156887650489807,\n",
       "  0.321300745010376,\n",
       "  0.321638822555542,\n",
       "  0.32197892665863037,\n",
       "  0.3216330409049988,\n",
       "  0.32176193594932556,\n",
       "  0.32165536284446716,\n",
       "  0.32129985094070435],\n",
       " 'val_accuracy': [0.8012499809265137,\n",
       "  0.8056250214576721,\n",
       "  0.8100000023841858,\n",
       "  0.8131250143051147,\n",
       "  0.8212500214576721,\n",
       "  0.8199999928474426,\n",
       "  0.8224999904632568,\n",
       "  0.8256250023841858,\n",
       "  0.831250011920929,\n",
       "  0.8387500047683716,\n",
       "  0.8399999737739563,\n",
       "  0.8487499952316284,\n",
       "  0.8399999737739563,\n",
       "  0.84375,\n",
       "  0.8487499952316284,\n",
       "  0.8493750095367432,\n",
       "  0.8531249761581421,\n",
       "  0.8537499904632568,\n",
       "  0.8531249761581421,\n",
       "  0.8531249761581421,\n",
       "  0.8512499928474426,\n",
       "  0.8518750071525574,\n",
       "  0.8531249761581421,\n",
       "  0.8556249737739563,\n",
       "  0.8550000190734863,\n",
       "  0.8587499856948853,\n",
       "  0.8575000166893005,\n",
       "  0.8525000214576721,\n",
       "  0.8512499928474426,\n",
       "  0.856249988079071,\n",
       "  0.8556249737739563,\n",
       "  0.8525000214576721,\n",
       "  0.8537499904632568,\n",
       "  0.8537499904632568,\n",
       "  0.8556249737739563,\n",
       "  0.8543750047683716,\n",
       "  0.8537499904632568,\n",
       "  0.8525000214576721,\n",
       "  0.8556249737739563,\n",
       "  0.8537499904632568,\n",
       "  0.8531249761581421,\n",
       "  0.8550000190734863,\n",
       "  0.8550000190734863,\n",
       "  0.8518750071525574,\n",
       "  0.8525000214576721,\n",
       "  0.8531249761581421,\n",
       "  0.8518750071525574,\n",
       "  0.8537499904632568,\n",
       "  0.8537499904632568,\n",
       "  0.8512499928474426,\n",
       "  0.8500000238418579,\n",
       "  0.8525000214576721,\n",
       "  0.8512499928474426,\n",
       "  0.8550000190734863,\n",
       "  0.8537499904632568,\n",
       "  0.8543750047683716,\n",
       "  0.8556249737739563,\n",
       "  0.8543750047683716,\n",
       "  0.8512499928474426,\n",
       "  0.8518750071525574,\n",
       "  0.8531249761581421,\n",
       "  0.8500000238418579,\n",
       "  0.8543750047683716,\n",
       "  0.8531249761581421,\n",
       "  0.8525000214576721,\n",
       "  0.8525000214576721,\n",
       "  0.8506249785423279,\n",
       "  0.8506249785423279,\n",
       "  0.8537499904632568,\n",
       "  0.8481249809265137,\n",
       "  0.8518750071525574,\n",
       "  0.8525000214576721,\n",
       "  0.8506249785423279,\n",
       "  0.8506249785423279,\n",
       "  0.8506249785423279,\n",
       "  0.8525000214576721,\n",
       "  0.8537499904632568,\n",
       "  0.8512499928474426,\n",
       "  0.8506249785423279,\n",
       "  0.8525000214576721,\n",
       "  0.8500000238418579,\n",
       "  0.8506249785423279,\n",
       "  0.8518750071525574,\n",
       "  0.8493750095367432,\n",
       "  0.8487499952316284,\n",
       "  0.8525000214576721,\n",
       "  0.8500000238418579,\n",
       "  0.8481249809265137,\n",
       "  0.8518750071525574,\n",
       "  0.8518750071525574,\n",
       "  0.8518750071525574,\n",
       "  0.8481249809265137,\n",
       "  0.8487499952316284,\n",
       "  0.8500000238418579,\n",
       "  0.8481249809265137,\n",
       "  0.8506249785423279,\n",
       "  0.8506249785423279,\n",
       "  0.8531249761581421,\n",
       "  0.8512499928474426,\n",
       "  0.8531249761581421],\n",
       " 'val_loss': [0.466389924287796,\n",
       "  0.44178155064582825,\n",
       "  0.4331552982330322,\n",
       "  0.42735007405281067,\n",
       "  0.42316514253616333,\n",
       "  0.4170340597629547,\n",
       "  0.4112941026687622,\n",
       "  0.40349385142326355,\n",
       "  0.3912789523601532,\n",
       "  0.3782464861869812,\n",
       "  0.36708104610443115,\n",
       "  0.361592561006546,\n",
       "  0.36093005537986755,\n",
       "  0.3558223247528076,\n",
       "  0.3532553017139435,\n",
       "  0.35239678621292114,\n",
       "  0.350790798664093,\n",
       "  0.34903907775878906,\n",
       "  0.3499801754951477,\n",
       "  0.3497369885444641,\n",
       "  0.34926795959472656,\n",
       "  0.34817805886268616,\n",
       "  0.34690484404563904,\n",
       "  0.34577620029449463,\n",
       "  0.345947265625,\n",
       "  0.34511902928352356,\n",
       "  0.34599295258522034,\n",
       "  0.3474503457546234,\n",
       "  0.34806764125823975,\n",
       "  0.34409332275390625,\n",
       "  0.34492287039756775,\n",
       "  0.3446153402328491,\n",
       "  0.34477633237838745,\n",
       "  0.3451049327850342,\n",
       "  0.34472188353538513,\n",
       "  0.3437153697013855,\n",
       "  0.3433431386947632,\n",
       "  0.3454667031764984,\n",
       "  0.3442843556404114,\n",
       "  0.34313228726387024,\n",
       "  0.34330689907073975,\n",
       "  0.3434081971645355,\n",
       "  0.34496986865997314,\n",
       "  0.34695953130722046,\n",
       "  0.3461431860923767,\n",
       "  0.3451615571975708,\n",
       "  0.3446791172027588,\n",
       "  0.3465254306793213,\n",
       "  0.34452998638153076,\n",
       "  0.3453628420829773,\n",
       "  0.3454836905002594,\n",
       "  0.345195472240448,\n",
       "  0.34481823444366455,\n",
       "  0.3444174528121948,\n",
       "  0.34535685181617737,\n",
       "  0.3457062542438507,\n",
       "  0.34453335404396057,\n",
       "  0.34579890966415405,\n",
       "  0.34528055787086487,\n",
       "  0.3460111916065216,\n",
       "  0.3457140326499939,\n",
       "  0.3457922339439392,\n",
       "  0.3450186550617218,\n",
       "  0.344702810049057,\n",
       "  0.3509165942668915,\n",
       "  0.346306711435318,\n",
       "  0.34395214915275574,\n",
       "  0.3470296859741211,\n",
       "  0.3465753495693207,\n",
       "  0.3462456166744232,\n",
       "  0.34510090947151184,\n",
       "  0.3455291986465454,\n",
       "  0.3456346392631531,\n",
       "  0.34681251645088196,\n",
       "  0.3483906090259552,\n",
       "  0.34614628553390503,\n",
       "  0.34613803029060364,\n",
       "  0.3480828106403351,\n",
       "  0.3477378487586975,\n",
       "  0.34649208188056946,\n",
       "  0.3476206660270691,\n",
       "  0.3462100327014923,\n",
       "  0.34539511799812317,\n",
       "  0.3473183810710907,\n",
       "  0.3475823998451233,\n",
       "  0.34463736414909363,\n",
       "  0.3484705686569214,\n",
       "  0.3459404706954956,\n",
       "  0.3472951054573059,\n",
       "  0.346830278635025,\n",
       "  0.34608572721481323,\n",
       "  0.34606656432151794,\n",
       "  0.3473018705844879,\n",
       "  0.34633785486221313,\n",
       "  0.3447255790233612,\n",
       "  0.345286101102829,\n",
       "  0.3465953469276428,\n",
       "  0.34624919295310974,\n",
       "  0.3470805883407593,\n",
       "  0.34570297598838806]}"
      ]
     },
     "execution_count": 31,
     "metadata": {},
     "output_type": "execute_result"
    }
   ],
   "source": [
    "history.history"
   ]
  },
  {
   "cell_type": "code",
   "execution_count": 32,
   "id": "60de710f",
   "metadata": {
    "execution": {
     "iopub.execute_input": "2024-10-30T08:24:05.903493Z",
     "iopub.status.busy": "2024-10-30T08:24:05.903174Z",
     "iopub.status.idle": "2024-10-30T08:24:05.908081Z",
     "shell.execute_reply": "2024-10-30T08:24:05.907366Z"
    },
    "papermill": {
     "duration": 0.083024,
     "end_time": "2024-10-30T08:24:05.909893",
     "exception": false,
     "start_time": "2024-10-30T08:24:05.826869",
     "status": "completed"
    },
    "tags": []
   },
   "outputs": [],
   "source": [
    "import matplotlib.pyplot as plt"
   ]
  },
  {
   "cell_type": "code",
   "execution_count": 33,
   "id": "7fc42faa",
   "metadata": {
    "execution": {
     "iopub.execute_input": "2024-10-30T08:24:06.061529Z",
     "iopub.status.busy": "2024-10-30T08:24:06.061187Z",
     "iopub.status.idle": "2024-10-30T08:24:06.259892Z",
     "shell.execute_reply": "2024-10-30T08:24:06.258961Z"
    },
    "papermill": {
     "duration": 0.276484,
     "end_time": "2024-10-30T08:24:06.261806",
     "exception": false,
     "start_time": "2024-10-30T08:24:05.985322",
     "status": "completed"
    },
    "tags": []
   },
   "outputs": [
    {
     "data": {
      "text/plain": [
       "[<matplotlib.lines.Line2D at 0x7f5659233460>]"
      ]
     },
     "execution_count": 33,
     "metadata": {},
     "output_type": "execute_result"
    },
    {
     "data": {
      "image/png": "[encoded data removed]",
      "text/plain": [
       "<Figure size 640x480 with 1 Axes>"
      ]
     },
     "metadata": {},
     "output_type": "display_data"
    }
   ],
   "source": [
    "plt.plot(history.history['loss'])\n",
    "plt.plot(history.history['val_loss'])"
   ]
  },
  {
   "cell_type": "code",
   "execution_count": 34,
   "id": "c98fdd6b",
   "metadata": {
    "execution": {
     "iopub.execute_input": "2024-10-30T08:24:06.415838Z",
     "iopub.status.busy": "2024-10-30T08:24:06.415470Z",
     "iopub.status.idle": "2024-10-30T08:24:06.658659Z",
     "shell.execute_reply": "2024-10-30T08:24:06.657706Z"
    },
    "papermill": {
     "duration": 0.322247,
     "end_time": "2024-10-30T08:24:06.660735",
     "exception": false,
     "start_time": "2024-10-30T08:24:06.338488",
     "status": "completed"
    },
    "tags": []
   },
   "outputs": [
    {
     "data": {
      "text/plain": [
       "[<matplotlib.lines.Line2D at 0x7f5645fdb340>]"
      ]
     },
     "execution_count": 34,
     "metadata": {},
     "output_type": "execute_result"
    },
    {
     "data": {
      "image/png": "[encoded data removed]",
      "text/plain": [
       "<Figure size 640x480 with 1 Axes>"
      ]
     },
     "metadata": {},
     "output_type": "display_data"
    }
   ],
   "source": [
    "plt.plot(history.history['accuracy'])\n",
    "plt.plot(history.history['val_accuracy'])"
   ]
  },
  {
   "cell_type": "code",
   "execution_count": null,
   "id": "276cde12",
   "metadata": {
    "papermill": {
     "duration": 0.075871,
     "end_time": "2024-10-30T08:24:06.814406",
     "exception": false,
     "start_time": "2024-10-30T08:24:06.738535",
     "status": "completed"
    },
    "tags": []
   },
   "outputs": [],
   "source": []
  }
 ],
 "metadata": {
  "kaggle": {
   "accelerator": "nvidiaTeslaT4",
   "dataSources": [
    {
     "datasetId": 869651,
     "sourceId": 1481789,
     "sourceType": "datasetVersion"
    }
   ],
   "dockerImageVersionId": 30787,
   "isGpuEnabled": true,
   "isInternetEnabled": true,
   "language": "python",
   "sourceType": "notebook"
  },
  "kernelspec": {
   "display_name": "Python 3",
   "language": "python",
   "name": "python3"
  },
  "language_info": {
   "codemirror_mode": {
    "name": "ipython",
    "version": 3
   },
   "file_extension": ".py",
   "mimetype": "text/x-python",
   "name": "python",
   "nbconvert_exporter": "python",
   "pygments_lexer": "ipython3",
   "version": "3.10.14"
  },
  "papermill": {
   "default_parameters": {},
   "duration": 62.741045,
   "end_time": "2024-10-30T08:24:09.409714",
   "environment_variables": {},
   "exception": null,
   "input_path": "__notebook__.ipynb",
   "output_path": "__notebook__.ipynb",
   "parameters": {},
   "start_time": "2024-10-30T08:23:06.668669",
   "version": "2.6.0"
  }
 },
 "nbformat": 4,
 "nbformat_minor": 5
}
